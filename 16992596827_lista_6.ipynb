{
 "cells": [
  {
   "cell_type": "markdown",
   "id": "5495f301",
   "metadata": {},
   "source": [
    "# Lista semana 7 - Pandas 2\n"
   ]
  },
  {
   "cell_type": "code",
   "execution_count": 1,
   "id": "2b0842bf",
   "metadata": {},
   "outputs": [],
   "source": [
    "import pandas as pd"
   ]
  },
  {
   "cell_type": "markdown",
   "id": "23b14982",
   "metadata": {},
   "source": [
    "## Exercício 1:\n",
    "Dado o seguinte DataFrame:"
   ]
  },
  {
   "cell_type": "code",
   "execution_count": 2,
   "id": "520536ae",
   "metadata": {},
   "outputs": [],
   "source": [
    "data = {'Nome': ['Alice', 'Bob', 'Charlie', 'David', 'Eva', 'Pedro', 'Jonas', 'Ana', 'Sofia'],\n",
    "        'Idade': [25, 30, 22, 35, 28, 19, 27, 39, 29],\n",
    "        'Salário': [4000, 4500, 3500, 5500, 4800, 3000, 6000, 5000, 4500]}\n",
    "\n",
    "df = pd.DataFrame(data)"
   ]
  },
  {
   "cell_type": "markdown",
   "id": "3784041b",
   "metadata": {},
   "source": [
    "a) Use a função loc para selecionar as linhas correspondentes aos indivíduos com idades entre 25 e 30 anos."
   ]
  },
  {
   "cell_type": "code",
   "execution_count": 3,
   "id": "0f8d1a01",
   "metadata": {},
   "outputs": [
    {
     "data": {
      "text/html": [
       "<div>\n",
       "<style scoped>\n",
       "    .dataframe tbody tr th:only-of-type {\n",
       "        vertical-align: middle;\n",
       "    }\n",
       "\n",
       "    .dataframe tbody tr th {\n",
       "        vertical-align: top;\n",
       "    }\n",
       "\n",
       "    .dataframe thead th {\n",
       "        text-align: right;\n",
       "    }\n",
       "</style>\n",
       "<table border=\"1\" class=\"dataframe\">\n",
       "  <thead>\n",
       "    <tr style=\"text-align: right;\">\n",
       "      <th></th>\n",
       "      <th>Nome</th>\n",
       "      <th>Idade</th>\n",
       "      <th>Salário</th>\n",
       "    </tr>\n",
       "  </thead>\n",
       "  <tbody>\n",
       "    <tr>\n",
       "      <th>0</th>\n",
       "      <td>Alice</td>\n",
       "      <td>25</td>\n",
       "      <td>4000</td>\n",
       "    </tr>\n",
       "    <tr>\n",
       "      <th>1</th>\n",
       "      <td>Bob</td>\n",
       "      <td>30</td>\n",
       "      <td>4500</td>\n",
       "    </tr>\n",
       "    <tr>\n",
       "      <th>4</th>\n",
       "      <td>Eva</td>\n",
       "      <td>28</td>\n",
       "      <td>4800</td>\n",
       "    </tr>\n",
       "    <tr>\n",
       "      <th>6</th>\n",
       "      <td>Jonas</td>\n",
       "      <td>27</td>\n",
       "      <td>6000</td>\n",
       "    </tr>\n",
       "    <tr>\n",
       "      <th>8</th>\n",
       "      <td>Sofia</td>\n",
       "      <td>29</td>\n",
       "      <td>4500</td>\n",
       "    </tr>\n",
       "  </tbody>\n",
       "</table>\n",
       "</div>"
      ],
      "text/plain": [
       "    Nome  Idade  Salário\n",
       "0  Alice     25     4000\n",
       "1    Bob     30     4500\n",
       "4    Eva     28     4800\n",
       "6  Jonas     27     6000\n",
       "8  Sofia     29     4500"
      ]
     },
     "execution_count": 3,
     "metadata": {},
     "output_type": "execute_result"
    }
   ],
   "source": [
    "lock = df.loc[df['Idade'] <= 30]\n",
    "lock.loc[lock['Idade'] >= 25]"
   ]
  },
  {
   "cell_type": "markdown",
   "id": "b6041ac3",
   "metadata": {},
   "source": [
    "b) Use a função iloc para selecionar as linhas correspondentes aos indivíduos na primeira e última posição do DataFrame e tire a média de seus salários."
   ]
  },
  {
   "cell_type": "code",
   "execution_count": 4,
   "id": "bdd6bd9e",
   "metadata": {},
   "outputs": [
    {
     "name": "stdout",
     "output_type": "stream",
     "text": [
      "4250.0\n"
     ]
    }
   ],
   "source": [
    "a = df.iloc[0, 2]\n",
    "b = df.iloc[-1, 2]\n",
    "\n",
    "media = (a+b)/2\n",
    "print(media)"
   ]
  },
  {
   "cell_type": "markdown",
   "id": "bcce013a",
   "metadata": {},
   "source": [
    "## Exercício 2:\n",
    "Dado o seguinte DataFrame:"
   ]
  },
  {
   "cell_type": "code",
   "execution_count": 5,
   "id": "5bc0fd62",
   "metadata": {},
   "outputs": [],
   "source": [
    "data = {'Categoria': ['A', 'B', 'A', 'C', 'B', 'A', 'B', 'A', 'C', 'C', 'B', 'A'],\n",
    "        'Valor': [100, 200, 150, 300, 250, 120, 140, 230, 390, 80, 160, 210]}\n",
    "\n",
    "df = pd.DataFrame(data)"
   ]
  },
  {
   "cell_type": "markdown",
   "id": "07582fed",
   "metadata": {},
   "source": [
    "a) Calcule a média dos valores para cada categoria."
   ]
  },
  {
   "cell_type": "code",
   "execution_count": 6,
   "id": "f91509c0",
   "metadata": {},
   "outputs": [
    {
     "name": "stdout",
     "output_type": "stream",
     "text": [
      "                Valor\n",
      "Categoria            \n",
      "A          162.000000\n",
      "B          187.500000\n",
      "C          256.666667\n"
     ]
    }
   ],
   "source": [
    "grouped_df = df.groupby('Categoria').mean()\n",
    "\n",
    "print(grouped_df)"
   ]
  },
  {
   "cell_type": "markdown",
   "id": "a1a3f0a6",
   "metadata": {},
   "source": [
    "b) Calcule a soma dos valores para cada categoria. O que possui a maior soma também possui a maior média? Qual a razão disso ocorrer ou não?"
   ]
  },
  {
   "cell_type": "code",
   "execution_count": 7,
   "id": "da25ee8e",
   "metadata": {},
   "outputs": [
    {
     "name": "stdout",
     "output_type": "stream",
     "text": [
      "           Valor\n",
      "Categoria       \n",
      "A            810\n",
      "B            750\n",
      "C            770\n"
     ]
    }
   ],
   "source": [
    "grouped = df.groupby('Categoria').sum()\n",
    "\n",
    "print(grouped)"
   ]
  },
  {
   "cell_type": "markdown",
   "id": "45571026",
   "metadata": {},
   "source": [
    "Não necessariamente a classe com a maior media é a com a maior soma, pois quantidade de elementos por classe é diferente"
   ]
  },
  {
   "cell_type": "markdown",
   "id": "2e8cf9a4",
   "metadata": {},
   "source": [
    "## Exercício 3:\n",
    "Dado o seguinte DataFrame:"
   ]
  },
  {
   "cell_type": "code",
   "execution_count": 8,
   "id": "89725c6e",
   "metadata": {},
   "outputs": [],
   "source": [
    "data = {'Data': ['2023-01-01', '2023-01-01', '2023-01-02', '2023-01-02'],\n",
    "        'Produto': ['A', 'B', 'A', 'B'],\n",
    "        'Vendas': [100, 150, 200, 120]}\n",
    "\n",
    "df = pd.DataFrame(data)"
   ]
  },
  {
   "cell_type": "markdown",
   "id": "45daa91a",
   "metadata": {},
   "source": [
    "Crie uma tabela dinâmica (pivot table) que mostre as vendas totais para cada produto em cada data."
   ]
  },
  {
   "cell_type": "code",
   "execution_count": 9,
   "id": "ff2e9e46",
   "metadata": {},
   "outputs": [
    {
     "name": "stdout",
     "output_type": "stream",
     "text": [
      "Produto       A    B\n",
      "Data                \n",
      "2023-01-01  100  150\n",
      "2023-01-02  200  120\n"
     ]
    }
   ],
   "source": [
    "pivot_table = pd.pivot_table(df, values='Vendas', index='Data', columns='Produto', aggfunc='sum')\n",
    "\n",
    "print(pivot_table)"
   ]
  },
  {
   "cell_type": "markdown",
   "id": "27b364b6",
   "metadata": {},
   "source": [
    "## Exercício 4:\n",
    "Dado os seguintes DataFrames:"
   ]
  },
  {
   "cell_type": "code",
   "execution_count": 10,
   "id": "63947001",
   "metadata": {},
   "outputs": [],
   "source": [
    "df1 = pd.DataFrame({'Chave': ['A', 'B', 'C', 'D'],\n",
    "                    'Valor1': [10, 12, 6, 4]})\n",
    "\n",
    "df2 = pd.DataFrame({'Chave': ['B', 'D', 'E', 'F'],\n",
    "                    'Valor2': [9, 6, 11, 8]})\n",
    "\n",
    "df3 = pd.DataFrame({'Chave': ['C', 'D', 'E', 'G'],\n",
    "                    'Valor3': [10, 7, 14, 15]})"
   ]
  },
  {
   "cell_type": "markdown",
   "id": "648721c4",
   "metadata": {},
   "source": [
    "a) Combine os DataFrames df1 e df2 com base na coluna 'Chave', e deixe a coluna chave como index. Inclua apenas as chaves que aparecem em ambos os dataframes"
   ]
  },
  {
   "cell_type": "code",
   "execution_count": 11,
   "id": "c5a83fb7",
   "metadata": {},
   "outputs": [
    {
     "data": {
      "text/html": [
       "<div>\n",
       "<style scoped>\n",
       "    .dataframe tbody tr th:only-of-type {\n",
       "        vertical-align: middle;\n",
       "    }\n",
       "\n",
       "    .dataframe tbody tr th {\n",
       "        vertical-align: top;\n",
       "    }\n",
       "\n",
       "    .dataframe thead th {\n",
       "        text-align: right;\n",
       "    }\n",
       "</style>\n",
       "<table border=\"1\" class=\"dataframe\">\n",
       "  <thead>\n",
       "    <tr style=\"text-align: right;\">\n",
       "      <th></th>\n",
       "      <th>Valor1</th>\n",
       "      <th>Valor2</th>\n",
       "    </tr>\n",
       "    <tr>\n",
       "      <th>Chave</th>\n",
       "      <th></th>\n",
       "      <th></th>\n",
       "    </tr>\n",
       "  </thead>\n",
       "  <tbody>\n",
       "    <tr>\n",
       "      <th>B</th>\n",
       "      <td>12</td>\n",
       "      <td>9</td>\n",
       "    </tr>\n",
       "    <tr>\n",
       "      <th>D</th>\n",
       "      <td>4</td>\n",
       "      <td>6</td>\n",
       "    </tr>\n",
       "  </tbody>\n",
       "</table>\n",
       "</div>"
      ],
      "text/plain": [
       "       Valor1  Valor2\n",
       "Chave                \n",
       "B          12       9\n",
       "D           4       6"
      ]
     },
     "execution_count": 11,
     "metadata": {},
     "output_type": "execute_result"
    }
   ],
   "source": [
    "merged_df = pd.merge(df1, df2, on='Chave')\n",
    "merged_df.set_index('Chave', inplace=True)\n",
    "\n",
    "merged_df"
   ]
  },
  {
   "cell_type": "markdown",
   "id": "5d1ca2a9",
   "metadata": {},
   "source": [
    "b) Combine os DataFrames df1, df2 e df3, incluindo todas as chaves e valores. Defina \"Chave\" como index e substitua os valores não existentes por 0."
   ]
  },
  {
   "cell_type": "code",
   "execution_count": 12,
   "id": "72acef37",
   "metadata": {},
   "outputs": [
    {
     "data": {
      "text/html": [
       "<div>\n",
       "<style scoped>\n",
       "    .dataframe tbody tr th:only-of-type {\n",
       "        vertical-align: middle;\n",
       "    }\n",
       "\n",
       "    .dataframe tbody tr th {\n",
       "        vertical-align: top;\n",
       "    }\n",
       "\n",
       "    .dataframe thead th {\n",
       "        text-align: right;\n",
       "    }\n",
       "</style>\n",
       "<table border=\"1\" class=\"dataframe\">\n",
       "  <thead>\n",
       "    <tr style=\"text-align: right;\">\n",
       "      <th></th>\n",
       "      <th>Chave</th>\n",
       "      <th>Valor1</th>\n",
       "      <th>Valor2</th>\n",
       "      <th>Valor3</th>\n",
       "    </tr>\n",
       "  </thead>\n",
       "  <tbody>\n",
       "    <tr>\n",
       "      <th>0</th>\n",
       "      <td>A</td>\n",
       "      <td>10.0</td>\n",
       "      <td>NaN</td>\n",
       "      <td>NaN</td>\n",
       "    </tr>\n",
       "    <tr>\n",
       "      <th>1</th>\n",
       "      <td>B</td>\n",
       "      <td>12.0</td>\n",
       "      <td>9.0</td>\n",
       "      <td>NaN</td>\n",
       "    </tr>\n",
       "    <tr>\n",
       "      <th>2</th>\n",
       "      <td>C</td>\n",
       "      <td>6.0</td>\n",
       "      <td>NaN</td>\n",
       "      <td>10.0</td>\n",
       "    </tr>\n",
       "    <tr>\n",
       "      <th>3</th>\n",
       "      <td>D</td>\n",
       "      <td>4.0</td>\n",
       "      <td>6.0</td>\n",
       "      <td>7.0</td>\n",
       "    </tr>\n",
       "    <tr>\n",
       "      <th>4</th>\n",
       "      <td>E</td>\n",
       "      <td>NaN</td>\n",
       "      <td>11.0</td>\n",
       "      <td>14.0</td>\n",
       "    </tr>\n",
       "    <tr>\n",
       "      <th>5</th>\n",
       "      <td>F</td>\n",
       "      <td>NaN</td>\n",
       "      <td>8.0</td>\n",
       "      <td>NaN</td>\n",
       "    </tr>\n",
       "    <tr>\n",
       "      <th>6</th>\n",
       "      <td>G</td>\n",
       "      <td>NaN</td>\n",
       "      <td>NaN</td>\n",
       "      <td>15.0</td>\n",
       "    </tr>\n",
       "  </tbody>\n",
       "</table>\n",
       "</div>"
      ],
      "text/plain": [
       "  Chave  Valor1  Valor2  Valor3\n",
       "0     A    10.0     NaN     NaN\n",
       "1     B    12.0     9.0     NaN\n",
       "2     C     6.0     NaN    10.0\n",
       "3     D     4.0     6.0     7.0\n",
       "4     E     NaN    11.0    14.0\n",
       "5     F     NaN     8.0     NaN\n",
       "6     G     NaN     NaN    15.0"
      ]
     },
     "execution_count": 12,
     "metadata": {},
     "output_type": "execute_result"
    }
   ],
   "source": [
    "merged = pd.merge(df1, df2, on='Chave', how = 'outer')\n",
    "merged = pd.merge(merged, df3, on='Chave', how = 'outer')\n",
    "merged"
   ]
  },
  {
   "cell_type": "code",
   "execution_count": 13,
   "id": "bab10858",
   "metadata": {},
   "outputs": [
    {
     "data": {
      "text/html": [
       "<div>\n",
       "<style scoped>\n",
       "    .dataframe tbody tr th:only-of-type {\n",
       "        vertical-align: middle;\n",
       "    }\n",
       "\n",
       "    .dataframe tbody tr th {\n",
       "        vertical-align: top;\n",
       "    }\n",
       "\n",
       "    .dataframe thead th {\n",
       "        text-align: right;\n",
       "    }\n",
       "</style>\n",
       "<table border=\"1\" class=\"dataframe\">\n",
       "  <thead>\n",
       "    <tr style=\"text-align: right;\">\n",
       "      <th></th>\n",
       "      <th>Valor1</th>\n",
       "      <th>Valor2</th>\n",
       "      <th>Valor3</th>\n",
       "    </tr>\n",
       "    <tr>\n",
       "      <th>Chave</th>\n",
       "      <th></th>\n",
       "      <th></th>\n",
       "      <th></th>\n",
       "    </tr>\n",
       "  </thead>\n",
       "  <tbody>\n",
       "    <tr>\n",
       "      <th>A</th>\n",
       "      <td>10.0</td>\n",
       "      <td>0.0</td>\n",
       "      <td>0.0</td>\n",
       "    </tr>\n",
       "    <tr>\n",
       "      <th>B</th>\n",
       "      <td>12.0</td>\n",
       "      <td>9.0</td>\n",
       "      <td>0.0</td>\n",
       "    </tr>\n",
       "    <tr>\n",
       "      <th>C</th>\n",
       "      <td>6.0</td>\n",
       "      <td>0.0</td>\n",
       "      <td>10.0</td>\n",
       "    </tr>\n",
       "    <tr>\n",
       "      <th>D</th>\n",
       "      <td>4.0</td>\n",
       "      <td>6.0</td>\n",
       "      <td>7.0</td>\n",
       "    </tr>\n",
       "    <tr>\n",
       "      <th>E</th>\n",
       "      <td>0.0</td>\n",
       "      <td>11.0</td>\n",
       "      <td>14.0</td>\n",
       "    </tr>\n",
       "    <tr>\n",
       "      <th>F</th>\n",
       "      <td>0.0</td>\n",
       "      <td>8.0</td>\n",
       "      <td>0.0</td>\n",
       "    </tr>\n",
       "    <tr>\n",
       "      <th>G</th>\n",
       "      <td>0.0</td>\n",
       "      <td>0.0</td>\n",
       "      <td>15.0</td>\n",
       "    </tr>\n",
       "  </tbody>\n",
       "</table>\n",
       "</div>"
      ],
      "text/plain": [
       "       Valor1  Valor2  Valor3\n",
       "Chave                        \n",
       "A        10.0     0.0     0.0\n",
       "B        12.0     9.0     0.0\n",
       "C         6.0     0.0    10.0\n",
       "D         4.0     6.0     7.0\n",
       "E         0.0    11.0    14.0\n",
       "F         0.0     8.0     0.0\n",
       "G         0.0     0.0    15.0"
      ]
     },
     "execution_count": 13,
     "metadata": {},
     "output_type": "execute_result"
    }
   ],
   "source": [
    "merged.set_index('Chave', inplace=True)\n",
    "merged.fillna(0, inplace=True)\n",
    "merged"
   ]
  },
  {
   "cell_type": "markdown",
   "id": "80f1d2c2",
   "metadata": {},
   "source": [
    "c) Adicione uma nova coluna ao dataframe, contendo a soma do valor 1, 2 e 3 para cada chave."
   ]
  },
  {
   "cell_type": "code",
   "execution_count": 14,
   "id": "cf3f1dcb",
   "metadata": {},
   "outputs": [
    {
     "data": {
      "text/html": [
       "<div>\n",
       "<style scoped>\n",
       "    .dataframe tbody tr th:only-of-type {\n",
       "        vertical-align: middle;\n",
       "    }\n",
       "\n",
       "    .dataframe tbody tr th {\n",
       "        vertical-align: top;\n",
       "    }\n",
       "\n",
       "    .dataframe thead th {\n",
       "        text-align: right;\n",
       "    }\n",
       "</style>\n",
       "<table border=\"1\" class=\"dataframe\">\n",
       "  <thead>\n",
       "    <tr style=\"text-align: right;\">\n",
       "      <th></th>\n",
       "      <th>Valor1</th>\n",
       "      <th>Valor2</th>\n",
       "      <th>Valor3</th>\n",
       "      <th>Total</th>\n",
       "    </tr>\n",
       "    <tr>\n",
       "      <th>Chave</th>\n",
       "      <th></th>\n",
       "      <th></th>\n",
       "      <th></th>\n",
       "      <th></th>\n",
       "    </tr>\n",
       "  </thead>\n",
       "  <tbody>\n",
       "    <tr>\n",
       "      <th>A</th>\n",
       "      <td>10.0</td>\n",
       "      <td>0.0</td>\n",
       "      <td>0.0</td>\n",
       "      <td>10.0</td>\n",
       "    </tr>\n",
       "    <tr>\n",
       "      <th>B</th>\n",
       "      <td>12.0</td>\n",
       "      <td>9.0</td>\n",
       "      <td>0.0</td>\n",
       "      <td>21.0</td>\n",
       "    </tr>\n",
       "    <tr>\n",
       "      <th>C</th>\n",
       "      <td>6.0</td>\n",
       "      <td>0.0</td>\n",
       "      <td>10.0</td>\n",
       "      <td>16.0</td>\n",
       "    </tr>\n",
       "    <tr>\n",
       "      <th>D</th>\n",
       "      <td>4.0</td>\n",
       "      <td>6.0</td>\n",
       "      <td>7.0</td>\n",
       "      <td>17.0</td>\n",
       "    </tr>\n",
       "    <tr>\n",
       "      <th>E</th>\n",
       "      <td>0.0</td>\n",
       "      <td>11.0</td>\n",
       "      <td>14.0</td>\n",
       "      <td>25.0</td>\n",
       "    </tr>\n",
       "    <tr>\n",
       "      <th>F</th>\n",
       "      <td>0.0</td>\n",
       "      <td>8.0</td>\n",
       "      <td>0.0</td>\n",
       "      <td>8.0</td>\n",
       "    </tr>\n",
       "    <tr>\n",
       "      <th>G</th>\n",
       "      <td>0.0</td>\n",
       "      <td>0.0</td>\n",
       "      <td>15.0</td>\n",
       "      <td>15.0</td>\n",
       "    </tr>\n",
       "  </tbody>\n",
       "</table>\n",
       "</div>"
      ],
      "text/plain": [
       "       Valor1  Valor2  Valor3  Total\n",
       "Chave                               \n",
       "A        10.0     0.0     0.0   10.0\n",
       "B        12.0     9.0     0.0   21.0\n",
       "C         6.0     0.0    10.0   16.0\n",
       "D         4.0     6.0     7.0   17.0\n",
       "E         0.0    11.0    14.0   25.0\n",
       "F         0.0     8.0     0.0    8.0\n",
       "G         0.0     0.0    15.0   15.0"
      ]
     },
     "execution_count": 14,
     "metadata": {},
     "output_type": "execute_result"
    }
   ],
   "source": [
    "merged['Total'] = merged.sum(axis=1)\n",
    "merged"
   ]
  },
  {
   "cell_type": "markdown",
   "id": "48397b8b",
   "metadata": {},
   "source": [
    "## Exercício 5\n",
    "Vamos importar dados de ações utilizando a biblioteca Yahoo Finance, e você trabalhará em cima deste dataframe."
   ]
  },
  {
   "cell_type": "code",
   "execution_count": 36,
   "id": "c5e6d3e2",
   "metadata": {},
   "outputs": [
    {
     "name": "stdout",
     "output_type": "stream",
     "text": [
      "[*********************100%%**********************]  1 of 1 completed\n"
     ]
    }
   ],
   "source": [
    "# importando a biblioteca:\n",
    "import yfinance as yf\n",
    "\n",
    "\n",
    "ticker_symbol = [\"BBAS3.SA\"]  # Substitua pela ação de sua escolha, se quiser\n",
    "start_date = \"2020-06-01\"\n",
    "end_date = \"2023-06-01\"\n",
    "#dataframe:\n",
    "data = yf.download(ticker_symbol, start=start_date, end=end_date)\n"
   ]
  },
  {
   "cell_type": "markdown",
   "id": "4678a8cb",
   "metadata": {},
   "source": [
    "a) Faça um novo dataframe, contendo as colunas de preço de fechamento ajustado ('Adj Close') e de volume de negociações ('Volume')."
   ]
  },
  {
   "cell_type": "code",
   "execution_count": 38,
   "id": "229d17b2",
   "metadata": {},
   "outputs": [
    {
     "data": {
      "text/html": [
       "<div>\n",
       "<style scoped>\n",
       "    .dataframe tbody tr th:only-of-type {\n",
       "        vertical-align: middle;\n",
       "    }\n",
       "\n",
       "    .dataframe tbody tr th {\n",
       "        vertical-align: top;\n",
       "    }\n",
       "\n",
       "    .dataframe thead th {\n",
       "        text-align: right;\n",
       "    }\n",
       "</style>\n",
       "<table border=\"1\" class=\"dataframe\">\n",
       "  <thead>\n",
       "    <tr style=\"text-align: right;\">\n",
       "      <th></th>\n",
       "      <th>Adj Close</th>\n",
       "      <th>Volume</th>\n",
       "    </tr>\n",
       "    <tr>\n",
       "      <th>Date</th>\n",
       "      <th></th>\n",
       "      <th></th>\n",
       "    </tr>\n",
       "  </thead>\n",
       "  <tbody>\n",
       "    <tr>\n",
       "      <th>2020-06-01</th>\n",
       "      <td>25.010443</td>\n",
       "      <td>22043600</td>\n",
       "    </tr>\n",
       "    <tr>\n",
       "      <th>2020-06-02</th>\n",
       "      <td>25.812664</td>\n",
       "      <td>15772200</td>\n",
       "    </tr>\n",
       "    <tr>\n",
       "      <th>2020-06-03</th>\n",
       "      <td>27.330593</td>\n",
       "      <td>29497200</td>\n",
       "    </tr>\n",
       "    <tr>\n",
       "      <th>2020-06-04</th>\n",
       "      <td>27.480028</td>\n",
       "      <td>23947100</td>\n",
       "    </tr>\n",
       "    <tr>\n",
       "      <th>2020-06-05</th>\n",
       "      <td>27.684515</td>\n",
       "      <td>35546100</td>\n",
       "    </tr>\n",
       "    <tr>\n",
       "      <th>...</th>\n",
       "      <td>...</td>\n",
       "      <td>...</td>\n",
       "    </tr>\n",
       "    <tr>\n",
       "      <th>2023-05-25</th>\n",
       "      <td>42.787670</td>\n",
       "      <td>11695400</td>\n",
       "    </tr>\n",
       "    <tr>\n",
       "      <th>2023-05-26</th>\n",
       "      <td>42.538574</td>\n",
       "      <td>9590300</td>\n",
       "    </tr>\n",
       "    <tr>\n",
       "      <th>2023-05-29</th>\n",
       "      <td>42.461922</td>\n",
       "      <td>3307900</td>\n",
       "    </tr>\n",
       "    <tr>\n",
       "      <th>2023-05-30</th>\n",
       "      <td>42.825993</td>\n",
       "      <td>18427000</td>\n",
       "    </tr>\n",
       "    <tr>\n",
       "      <th>2023-05-31</th>\n",
       "      <td>42.749348</td>\n",
       "      <td>17425400</td>\n",
       "    </tr>\n",
       "  </tbody>\n",
       "</table>\n",
       "<p>746 rows × 2 columns</p>\n",
       "</div>"
      ],
      "text/plain": [
       "            Adj Close    Volume\n",
       "Date                           \n",
       "2020-06-01  25.010443  22043600\n",
       "2020-06-02  25.812664  15772200\n",
       "2020-06-03  27.330593  29497200\n",
       "2020-06-04  27.480028  23947100\n",
       "2020-06-05  27.684515  35546100\n",
       "...               ...       ...\n",
       "2023-05-25  42.787670  11695400\n",
       "2023-05-26  42.538574   9590300\n",
       "2023-05-29  42.461922   3307900\n",
       "2023-05-30  42.825993  18427000\n",
       "2023-05-31  42.749348  17425400\n",
       "\n",
       "[746 rows x 2 columns]"
      ]
     },
     "execution_count": 38,
     "metadata": {},
     "output_type": "execute_result"
    }
   ],
   "source": [
    "columns_to_drop = ['Open', 'High', 'Low', 'Close']\n",
    "data.drop(columns=columns_to_drop, inplace=True)\n",
    "data"
   ]
  },
  {
   "cell_type": "markdown",
   "id": "5d34717d",
   "metadata": {},
   "source": [
    "b) Em qual dia a ação atingiu sua maior cotação?"
   ]
  },
  {
   "cell_type": "code",
   "execution_count": 39,
   "id": "e21e9455",
   "metadata": {},
   "outputs": [
    {
     "data": {
      "text/plain": [
       "Timestamp('2023-05-30 00:00:00')"
      ]
     },
     "execution_count": 39,
     "metadata": {},
     "output_type": "execute_result"
    }
   ],
   "source": [
    "max_index = data['Adj Close'].idxmax()\n",
    "max_index"
   ]
  },
  {
   "cell_type": "markdown",
   "id": "80a3a777",
   "metadata": {},
   "source": [
    "c) Em qual dia a ação foi mais negociada?"
   ]
  },
  {
   "cell_type": "code",
   "execution_count": 40,
   "id": "a29e99a3",
   "metadata": {},
   "outputs": [
    {
     "data": {
      "text/plain": [
       "Timestamp('2021-02-22 00:00:00')"
      ]
     },
     "execution_count": 40,
     "metadata": {},
     "output_type": "execute_result"
    }
   ],
   "source": [
    "max_index = data['Volume'].idxmax()\n",
    "max_index"
   ]
  },
  {
   "cell_type": "markdown",
   "id": "91fb89f7",
   "metadata": {},
   "source": [
    "d) Adicione uma coluna no dataframe, contendo a variação percentual da cotação da ação"
   ]
  },
  {
   "cell_type": "code",
   "execution_count": 42,
   "id": "8d224fa4",
   "metadata": {},
   "outputs": [
    {
     "data": {
      "text/html": [
       "<div>\n",
       "<style scoped>\n",
       "    .dataframe tbody tr th:only-of-type {\n",
       "        vertical-align: middle;\n",
       "    }\n",
       "\n",
       "    .dataframe tbody tr th {\n",
       "        vertical-align: top;\n",
       "    }\n",
       "\n",
       "    .dataframe thead th {\n",
       "        text-align: right;\n",
       "    }\n",
       "</style>\n",
       "<table border=\"1\" class=\"dataframe\">\n",
       "  <thead>\n",
       "    <tr style=\"text-align: right;\">\n",
       "      <th></th>\n",
       "      <th>Adj Close</th>\n",
       "      <th>Volume</th>\n",
       "      <th>Variação percentual</th>\n",
       "    </tr>\n",
       "    <tr>\n",
       "      <th>Date</th>\n",
       "      <th></th>\n",
       "      <th></th>\n",
       "      <th></th>\n",
       "    </tr>\n",
       "  </thead>\n",
       "  <tbody>\n",
       "    <tr>\n",
       "      <th>2020-06-01</th>\n",
       "      <td>25.010443</td>\n",
       "      <td>22043600</td>\n",
       "      <td>NaN</td>\n",
       "    </tr>\n",
       "    <tr>\n",
       "      <th>2020-06-02</th>\n",
       "      <td>25.812664</td>\n",
       "      <td>15772200</td>\n",
       "      <td>3.207545</td>\n",
       "    </tr>\n",
       "    <tr>\n",
       "      <th>2020-06-03</th>\n",
       "      <td>27.330593</td>\n",
       "      <td>29497200</td>\n",
       "      <td>5.880560</td>\n",
       "    </tr>\n",
       "    <tr>\n",
       "      <th>2020-06-04</th>\n",
       "      <td>27.480028</td>\n",
       "      <td>23947100</td>\n",
       "      <td>0.546768</td>\n",
       "    </tr>\n",
       "    <tr>\n",
       "      <th>2020-06-05</th>\n",
       "      <td>27.684515</td>\n",
       "      <td>35546100</td>\n",
       "      <td>0.744129</td>\n",
       "    </tr>\n",
       "    <tr>\n",
       "      <th>...</th>\n",
       "      <td>...</td>\n",
       "      <td>...</td>\n",
       "      <td>...</td>\n",
       "    </tr>\n",
       "    <tr>\n",
       "      <th>2023-05-25</th>\n",
       "      <td>42.787670</td>\n",
       "      <td>11695400</td>\n",
       "      <td>0.112085</td>\n",
       "    </tr>\n",
       "    <tr>\n",
       "      <th>2023-05-26</th>\n",
       "      <td>42.538574</td>\n",
       "      <td>9590300</td>\n",
       "      <td>-0.582168</td>\n",
       "    </tr>\n",
       "    <tr>\n",
       "      <th>2023-05-29</th>\n",
       "      <td>42.461922</td>\n",
       "      <td>3307900</td>\n",
       "      <td>-0.180195</td>\n",
       "    </tr>\n",
       "    <tr>\n",
       "      <th>2023-05-30</th>\n",
       "      <td>42.825993</td>\n",
       "      <td>18427000</td>\n",
       "      <td>0.857406</td>\n",
       "    </tr>\n",
       "    <tr>\n",
       "      <th>2023-05-31</th>\n",
       "      <td>42.749348</td>\n",
       "      <td>17425400</td>\n",
       "      <td>-0.178968</td>\n",
       "    </tr>\n",
       "  </tbody>\n",
       "</table>\n",
       "<p>746 rows × 3 columns</p>\n",
       "</div>"
      ],
      "text/plain": [
       "            Adj Close    Volume  Variação percentual\n",
       "Date                                                \n",
       "2020-06-01  25.010443  22043600                  NaN\n",
       "2020-06-02  25.812664  15772200             3.207545\n",
       "2020-06-03  27.330593  29497200             5.880560\n",
       "2020-06-04  27.480028  23947100             0.546768\n",
       "2020-06-05  27.684515  35546100             0.744129\n",
       "...               ...       ...                  ...\n",
       "2023-05-25  42.787670  11695400             0.112085\n",
       "2023-05-26  42.538574   9590300            -0.582168\n",
       "2023-05-29  42.461922   3307900            -0.180195\n",
       "2023-05-30  42.825993  18427000             0.857406\n",
       "2023-05-31  42.749348  17425400            -0.178968\n",
       "\n",
       "[746 rows x 3 columns]"
      ]
     },
     "execution_count": 42,
     "metadata": {},
     "output_type": "execute_result"
    }
   ],
   "source": [
    "data['Variação percentual'] = data['Adj Close'].pct_change()*100\n",
    "data"
   ]
  },
  {
   "cell_type": "markdown",
   "id": "3fdc7f7d",
   "metadata": {},
   "source": [
    "e) Calcule o retorno anualizado médio da ação. Considere que um ano possui 252 dias úteis em média."
   ]
  },
  {
   "cell_type": "code",
   "execution_count": 47,
   "id": "a4ae9197",
   "metadata": {},
   "outputs": [
    {
     "data": {
      "text/plain": [
       "Date\n",
       "2020-06-01         NaN\n",
       "2020-06-02         NaN\n",
       "2020-06-03         NaN\n",
       "2020-06-04         NaN\n",
       "2020-06-05         NaN\n",
       "                ...   \n",
       "2023-05-25    0.238857\n",
       "2023-05-26    0.251346\n",
       "2023-05-29    0.256738\n",
       "2023-05-30    0.271235\n",
       "2023-05-31    0.283003\n",
       "Name: Adj Close, Length: 746, dtype: float64"
      ]
     },
     "execution_count": 47,
     "metadata": {},
     "output_type": "execute_result"
    }
   ],
   "source": [
    "a = data['Adj Close'].pct_change(periods =252)\n",
    "a"
   ]
  },
  {
   "cell_type": "markdown",
   "id": "42372a8b",
   "metadata": {},
   "source": [
    "## QUESTÃO 6"
   ]
  },
  {
   "cell_type": "markdown",
   "id": "2cf99913",
   "metadata": {},
   "source": [
    "Você tem um DataFrame com informações sobre produtos em um estoque, incluindo nomes de produtos, preços e quantidades em estoque. Resolva as seguintes tarefas:"
   ]
  },
  {
   "cell_type": "markdown",
   "id": "792ffe33",
   "metadata": {},
   "source": [
    "a) Agrupe os produtos por categoria e calcule a média e a mediana dos preços por categoria."
   ]
  },
  {
   "cell_type": "code",
   "execution_count": 52,
   "id": "e9b0cd0a",
   "metadata": {},
   "outputs": [
    {
     "data": {
      "text/plain": [
       "Categoria\n",
       "Eletrônicos    1000.0\n",
       "Roupas           40.0\n",
       "Name: Preço, dtype: float64"
      ]
     },
     "execution_count": 52,
     "metadata": {},
     "output_type": "execute_result"
    }
   ],
   "source": [
    "data = {'Produto': ['A', 'B', 'C', 'D', 'E'],\n",
    "        'Categoria': ['Eletrônicos', 'Roupas', 'Eletrônicos', 'Roupas', 'Eletrônicos'],\n",
    "        'Preço': [1000, 50, 800, 30, 1200],\n",
    "        'Quantidade_Estoque': [10, 15, 5, 8, 12]}\n",
    "\n",
    "df = pd.DataFrame(data)\n",
    "grouped = df.groupby('Categoria')['Preço'].mean()\n",
    "\n",
    "grouped"
   ]
  },
  {
   "cell_type": "code",
   "execution_count": 53,
   "id": "607cded0",
   "metadata": {},
   "outputs": [
    {
     "data": {
      "text/plain": [
       "Categoria\n",
       "Eletrônicos    1000.0\n",
       "Roupas           40.0\n",
       "Name: Preço, dtype: float64"
      ]
     },
     "execution_count": 53,
     "metadata": {},
     "output_type": "execute_result"
    }
   ],
   "source": [
    "df.groupby('Categoria')['Preço'].median()"
   ]
  },
  {
   "cell_type": "markdown",
   "id": "f7e3f7f2",
   "metadata": {},
   "source": [
    "b) Encontre o produto mais caro em estoque."
   ]
  },
  {
   "cell_type": "code",
   "execution_count": 56,
   "id": "06415adc",
   "metadata": {},
   "outputs": [
    {
     "data": {
      "text/plain": [
       "Produto\n",
       "A    1000\n",
       "B      50\n",
       "C     800\n",
       "D      30\n",
       "E    1200\n",
       "Name: Preço, dtype: int64"
      ]
     },
     "execution_count": 56,
     "metadata": {},
     "output_type": "execute_result"
    }
   ],
   "source": [
    "df.groupby('Produto')['Preço'].max()"
   ]
  },
  {
   "cell_type": "markdown",
   "id": "64d729ac",
   "metadata": {},
   "source": [
    "Produto E é o mais caro"
   ]
  },
  {
   "cell_type": "markdown",
   "id": "13dd0008",
   "metadata": {},
   "source": [
    "## QUESTÃO 7"
   ]
  },
  {
   "cell_type": "markdown",
   "id": "e678e155",
   "metadata": {},
   "source": [
    "Suponha que você tenha um DataFrame com informações sobre jogos de video game, incluindo o nome do jogo, a plataforma em que ele foi lançado e sua classificação. Realize as seguintes tarefas:"
   ]
  },
  {
   "cell_type": "markdown",
   "id": "045abb7a",
   "metadata": {},
   "source": [
    "a) Crie um DataFrame a partir dos seguintes dados:"
   ]
  },
  {
   "cell_type": "code",
   "execution_count": 23,
   "id": "7adc94a6",
   "metadata": {},
   "outputs": [],
   "source": [
    "data = {'Nome_Jogo': ['Super Mario Odyssey', 'The Legend of Zelda', 'FIFA 22', 'Call of Duty: Warzone'],\n",
    "        'Plataforma': ['Nintendo Switch', 'Nintendo Switch', 'PlayStation 5', 'Xbox Series X'],\n",
    "        'Classificacao': ['E', 'E', 'E', 'M']}\n"
   ]
  },
  {
   "cell_type": "code",
   "execution_count": 24,
   "id": "7e3c6849",
   "metadata": {},
   "outputs": [],
   "source": [
    "### seu código começa aqui###"
   ]
  },
  {
   "cell_type": "markdown",
   "id": "26621f0e",
   "metadata": {},
   "source": [
    "b) Agrupe os jogos por plataforma e conte quantos jogos estão disponíveis em cada plataforma."
   ]
  },
  {
   "cell_type": "code",
   "execution_count": 25,
   "id": "494ee809",
   "metadata": {},
   "outputs": [],
   "source": [
    "### seu código começa aqui###"
   ]
  },
  {
   "cell_type": "markdown",
   "id": "caa13e92",
   "metadata": {},
   "source": [
    "c) Encontre a plataforma com a maior quantidade de jogos."
   ]
  },
  {
   "cell_type": "code",
   "execution_count": 26,
   "id": "e8d0964a",
   "metadata": {},
   "outputs": [],
   "source": [
    "### seu código começa aqui###"
   ]
  },
  {
   "cell_type": "markdown",
   "id": "17e3a615",
   "metadata": {},
   "source": [
    "## QUESTÃO 8"
   ]
  },
  {
   "cell_type": "markdown",
   "id": "bbbf17c3",
   "metadata": {},
   "source": [
    "Você possui um DataFrame com informações sobre espécies de árvores encontradas em diferentes estados do Brasil. O DataFrame possui as colunas 'Estado', 'Espécie', 'Quantidade', e 'Altura Média'. Crie uma análise de dados para responder às seguintes perguntas e aprenda algumas curiosidades interessantes sobre as árvores do Brasil:"
   ]
  },
  {
   "cell_type": "code",
   "execution_count": 27,
   "id": "cb5544c1",
   "metadata": {},
   "outputs": [],
   "source": [
    "import pandas as pd\n",
    "\n",
    "data = {'Estado': ['São Paulo', 'São Paulo', 'Rio de Janeiro', 'Rio de Janeiro', 'Minas Gerais'],\n",
    "        'Espécie': ['Ipê Amarelo', 'Ipê Roxo', 'Ipê Amarelo', 'Ipê Roxo', 'Quaresmeira'],\n",
    "        'Quantidade': [100, 50, 80, 40, 70],\n",
    "        'Altura Média': [8, 7, 7, 6, 10]}\n",
    "\n",
    "df = pd.DataFrame(data)\n"
   ]
  },
  {
   "cell_type": "markdown",
   "id": "892d8c4a",
   "metadata": {},
   "source": [
    "a) Qual é a espécie de árvore mais comum em cada estado? Mostre uma lista com o nome do estado e a espécie mais comum."
   ]
  },
  {
   "cell_type": "code",
   "execution_count": 28,
   "id": "aaf950a1",
   "metadata": {},
   "outputs": [],
   "source": [
    "### seu código começa aqui###"
   ]
  },
  {
   "cell_type": "markdown",
   "id": "ef8c52bf",
   "metadata": {},
   "source": [
    "b) Qual é a altura média das árvores por espécie? Apresente uma tabela que lista as espécies e suas alturas médias."
   ]
  },
  {
   "cell_type": "code",
   "execution_count": 29,
   "id": "af1cea04",
   "metadata": {},
   "outputs": [],
   "source": [
    "### seu código começa aqui###"
   ]
  },
  {
   "cell_type": "markdown",
   "id": "7aee5ad5",
   "metadata": {},
   "source": [
    "c) Qual é o estado com a maior altura média de árvores? Mostre o nome do estado e sua altura média."
   ]
  },
  {
   "cell_type": "code",
   "execution_count": 30,
   "id": "e222b1be",
   "metadata": {},
   "outputs": [],
   "source": [
    "### seu código começa aqui###"
   ]
  },
  {
   "cell_type": "markdown",
   "id": "3ec9d7d6",
   "metadata": {},
   "source": [
    "d) Qual é o estado com a maior quantidade total de árvores? Mostre o nome do estado e a quantidade total de árvores."
   ]
  },
  {
   "cell_type": "code",
   "execution_count": 31,
   "id": "1d8892c8",
   "metadata": {},
   "outputs": [],
   "source": [
    "### seu código começa aqui###"
   ]
  },
  {
   "cell_type": "markdown",
   "id": "ed252638",
   "metadata": {},
   "source": [
    "e) Qual é a espécie de árvore com a menor altura média? Mostre o nome da espécie e sua altura média."
   ]
  },
  {
   "cell_type": "code",
   "execution_count": 32,
   "id": "1862cd91",
   "metadata": {},
   "outputs": [],
   "source": [
    "### seu código começa aqui###"
   ]
  },
  {
   "cell_type": "markdown",
   "id": "2139d3d7",
   "metadata": {},
   "source": [
    "# DESAFIO "
   ]
  },
  {
   "cell_type": "markdown",
   "id": "42f6f15b",
   "metadata": {},
   "source": [
    "Você possui um DataFrame com informações sobre uma temporada da Fórmula 1. O DataFrame contém as colunas 'Piloto', 'Equipe', 'Pontuação' e 'Vitórias'. Sua tarefa é encontrar o melhor piloto da temporada com base em sua pontuação e número de vitórias."
   ]
  },
  {
   "cell_type": "code",
   "execution_count": 33,
   "id": "c0457b9c",
   "metadata": {},
   "outputs": [],
   "source": [
    "import pandas as pd\n",
    "\n",
    "data = {'Piloto': ['Lewis Hamilton', 'Max Verstappen', 'Charles Leclerc', 'Lando Norris', 'Valtteri Bottas'],\n",
    "        'Equipe': ['Mercedes', 'Red Bull Racing', 'Ferrari', 'McLaren', 'Mercedes'],\n",
    "        'Pontuação': [385, 391, 334, 256, 221],\n",
    "        'Vitórias': [10, 9, 6, 3, 2]}\n",
    "\n",
    "df = pd.DataFrame(data)\n"
   ]
  },
  {
   "cell_type": "markdown",
   "id": "9f7440d7",
   "metadata": {},
   "source": [
    "Encontre o melhor piloto da temporada de acordo com a pontuação e número de vitórias. O melhor piloto é aquele que tem a maior pontuação e, em caso de empate na pontuação, o maior número de vitórias."
   ]
  },
  {
   "cell_type": "code",
   "execution_count": 34,
   "id": "4884f933",
   "metadata": {},
   "outputs": [],
   "source": [
    "### seu código começa aqui###"
   ]
  }
 ],
 "metadata": {
  "kernelspec": {
   "display_name": "Python 3 (ipykernel)",
   "language": "python",
   "name": "python3"
  },
  "language_info": {
   "codemirror_mode": {
    "name": "ipython",
    "version": 3
   },
   "file_extension": ".py",
   "mimetype": "text/x-python",
   "name": "python",
   "nbconvert_exporter": "python",
   "pygments_lexer": "ipython3",
   "version": "3.11.4"
  }
 },
 "nbformat": 4,
 "nbformat_minor": 5
}

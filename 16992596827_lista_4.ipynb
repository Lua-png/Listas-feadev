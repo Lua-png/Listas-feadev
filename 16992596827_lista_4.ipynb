{
 "cells": [
  {
   "cell_type": "markdown",
   "metadata": {},
   "source": [
    "## Lista 4"
   ]
  },
  {
   "cell_type": "markdown",
   "metadata": {},
   "source": [
    "## QUESTÃO 0"
   ]
  },
  {
   "cell_type": "markdown",
   "metadata": {},
   "source": [
    "**Simulação de um Cassino**\n",
    "\n",
    "Você está desenvolvendo um programa de simulação de cassino em Python. Importe a biblioteca random para criar uma função que simule um jogo de roleta. A função deve retornar o número onde a bola da roleta parou."
   ]
  },
  {
   "cell_type": "code",
   "execution_count": 23,
   "metadata": {},
   "outputs": [
    {
     "data": {
      "text/plain": [
       "17"
      ]
     },
     "execution_count": 23,
     "metadata": {},
     "output_type": "execute_result"
    }
   ],
   "source": [
    "import random \n",
    "\n",
    "def sortear():\n",
    "    roleta = [x for x in range(0, 37)]\n",
    "    x = random.choice(roleta)\n",
    "    return x\n",
    "\n",
    "sortear()"
   ]
  },
  {
   "cell_type": "markdown",
   "metadata": {},
   "source": [
    "Além disso, adicione um jogo de cartas ao seu cassino. Crie uma função chamada simular_jogo_de_cartas() que simule um jogo de cartas, como blackjack. A função deve retornar um valor aleatório representando a pontuação do jogador no jogo de cartas, que pode ser de 1 a 21."
   ]
  },
  {
   "cell_type": "code",
   "execution_count": 80,
   "metadata": {},
   "outputs": [
    {
     "name": "stdout",
     "output_type": "stream",
     "text": [
      "sua pontuação é de 3\n"
     ]
    }
   ],
   "source": [
    "def cartas():\n",
    "    roleta = [x for x in range(1, 22)]\n",
    "    x = random.choice(roleta)\n",
    "    print(f\"sua pontuação é de {x}\")\n",
    "\n",
    "cartas()"
   ]
  },
  {
   "cell_type": "markdown",
   "metadata": {},
   "source": [
    "## QUESTÃO 1\n"
   ]
  },
  {
   "cell_type": "markdown",
   "metadata": {},
   "source": [
    "O verão está chegando e você já quer colocar uma caixa d´água na sua casa para usar como piscina. Na loja de materiais de construção, o atendente informa que as caixas são vendidas em relação a área que a comporta, Sabendo que você tem um espaço para uma piscina de 5 metros de raio, calcule a área do círculo, e descubra qual caixa comprar. \n",
    "\n",
    "Lembre-se de que a fórmula para calcular a área de um círculo é A = π * r^2."
   ]
  },
  {
   "cell_type": "code",
   "execution_count": 94,
   "metadata": {},
   "outputs": [
    {
     "name": "stdout",
     "output_type": "stream",
     "text": [
      "a área é de 78.5398 metros quadrados\n"
     ]
    }
   ],
   "source": [
    "import math\n",
    "area = math.pi*5**2\n",
    "area = round(area, 4)\n",
    "print(f\"a área é de {area} metros quadrados\")"
   ]
  },
  {
   "cell_type": "markdown",
   "metadata": {},
   "source": [
    "## QUESTÃO 2\n",
    "\n"
   ]
  },
  {
   "cell_type": "markdown",
   "metadata": {},
   "source": [
    "Duvido você fazer um código que tenha como OUTPUT a data exata que você está fazendo essa questão. Vamos descobrir se você é do tipo de pessoa que aproveita o dia para fazer as tarefas ou madruga para completa-las"
   ]
  },
  {
   "cell_type": "code",
   "execution_count": 101,
   "metadata": {},
   "outputs": [
    {
     "name": "stdout",
     "output_type": "stream",
     "text": [
      "2023-10-26 16:45:42.114953\n"
     ]
    }
   ],
   "source": [
    "import datetime\n",
    "\n",
    "current_datetime = datetime.datetime.now()\n",
    "\n",
    "print(current_datetime) "
   ]
  },
  {
   "cell_type": "markdown",
   "metadata": {},
   "source": [
    "## QUESTÃO 3"
   ]
  },
  {
   "cell_type": "markdown",
   "metadata": {},
   "source": [
    "Você está fazendo uma rifa beneficiente para ajudar uma instituição de caridade do bairro. Está na hora de sortear quem é o grande vencedor de uma ALEXA 3º geração.\n",
    "\n",
    "Instruções:\n",
    "\n",
    "lista de nomes: nomes = [\"Alice\", \"Bob\", \"Carlos\", \"Diana\", \"Eva\",\"Henrique\", \"Isadora\", \"Leandro\", \"Patricia\",\"Julia\", \"Alex\"].\n",
    "\n",
    "Importe a biblioteca random.\n",
    "\n",
    "Use random.choice() para escolher aleatoriamente um nome da lista.\n",
    "\n",
    "Exiba o nome escolhido na tela."
   ]
  },
  {
   "cell_type": "code",
   "execution_count": 2,
   "metadata": {},
   "outputs": [
    {
     "name": "stdout",
     "output_type": "stream",
     "text": [
      "Grande vencedor/a é Leandro\n"
     ]
    }
   ],
   "source": [
    "from random import choice\n",
    "\n",
    "nomes = [\"Alice\", \"Bob\", \"Carlos\", \"Diana\", \"Eva\",\"Henrique\", \"Isadora\", \"Leandro\", \"Patricia\",\"Julia\", \"Alex\"]\n",
    "escolha = choice(nomes)\n",
    "print(\"Grande vencedor/a é\", escolha)"
   ]
  },
  {
   "cell_type": "markdown",
   "metadata": {},
   "source": [
    "## QUESTÃO 4"
   ]
  },
  {
   "cell_type": "markdown",
   "metadata": {},
   "source": [
    "Os Módulos 6 e 7 abordarão Pandas, entretanto vamos aquecer!!!\n",
    "Use o Pandas para ler os dados do arquivo CSV que está anexado à lista e criar um DataFrame.\n",
    "Além disso, vizualize somente as 5 primeiras linhas."
   ]
  },
  {
   "cell_type": "code",
   "execution_count": 147,
   "metadata": {},
   "outputs": [
    {
     "name": "stdout",
     "output_type": "stream",
     "text": [
      "C:\\Users\\HP\\Downloads\\expandas.csv\n"
     ]
    }
   ],
   "source": [
    "import pandas as pd\n",
    "\n",
    "import os \n",
    "diretorio = os.getcwd()\n",
    "path = diretorio + '\\expandas.csv'\n",
    "print(path)"
   ]
  },
  {
   "cell_type": "code",
   "execution_count": 150,
   "metadata": {},
   "outputs": [
    {
     "data": {
      "text/html": [
       "<div>\n",
       "<style scoped>\n",
       "    .dataframe tbody tr th:only-of-type {\n",
       "        vertical-align: middle;\n",
       "    }\n",
       "\n",
       "    .dataframe tbody tr th {\n",
       "        vertical-align: top;\n",
       "    }\n",
       "\n",
       "    .dataframe thead th {\n",
       "        text-align: right;\n",
       "    }\n",
       "</style>\n",
       "<table border=\"1\" class=\"dataframe\">\n",
       "  <thead>\n",
       "    <tr style=\"text-align: right;\">\n",
       "      <th></th>\n",
       "      <th>Nome</th>\n",
       "      <th>Sexo</th>\n",
       "      <th>P1</th>\n",
       "      <th>P2</th>\n",
       "      <th>Frequência</th>\n",
       "    </tr>\n",
       "  </thead>\n",
       "  <tbody>\n",
       "    <tr>\n",
       "      <th>0</th>\n",
       "      <td>Aluno1</td>\n",
       "      <td>Masculino</td>\n",
       "      <td>1,6</td>\n",
       "      <td>-</td>\n",
       "      <td>50%</td>\n",
       "    </tr>\n",
       "    <tr>\n",
       "      <th>1</th>\n",
       "      <td>Aluno2</td>\n",
       "      <td>Feminino</td>\n",
       "      <td>7,5</td>\n",
       "      <td>6,5</td>\n",
       "      <td>80%</td>\n",
       "    </tr>\n",
       "    <tr>\n",
       "      <th>2</th>\n",
       "      <td>Aluno3</td>\n",
       "      <td>Masculino</td>\n",
       "      <td>9</td>\n",
       "      <td>8</td>\n",
       "      <td>90%</td>\n",
       "    </tr>\n",
       "    <tr>\n",
       "      <th>3</th>\n",
       "      <td>Aluno4</td>\n",
       "      <td>Masculino</td>\n",
       "      <td>5,5</td>\n",
       "      <td>8</td>\n",
       "      <td>70%</td>\n",
       "    </tr>\n",
       "    <tr>\n",
       "      <th>4</th>\n",
       "      <td>Aluno5</td>\n",
       "      <td>Masculino</td>\n",
       "      <td>7</td>\n",
       "      <td>8</td>\n",
       "      <td>100%</td>\n",
       "    </tr>\n",
       "  </tbody>\n",
       "</table>\n",
       "</div>"
      ],
      "text/plain": [
       "     Nome       Sexo   P1   P2 Frequência\n",
       "0  Aluno1  Masculino  1,6    -        50%\n",
       "1  Aluno2   Feminino  7,5  6,5        80%\n",
       "2  Aluno3  Masculino    9    8        90%\n",
       "3  Aluno4  Masculino  5,5    8        70%\n",
       "4  Aluno5  Masculino    7    8       100%"
      ]
     },
     "execution_count": 150,
     "metadata": {},
     "output_type": "execute_result"
    }
   ],
   "source": [
    "data = pd.read_csv(path, sep = \";\")\n",
    "data.head()"
   ]
  },
  {
   "cell_type": "markdown",
   "metadata": {},
   "source": [
    "## QUESTÃO 5"
   ]
  },
  {
   "cell_type": "markdown",
   "metadata": {},
   "source": [
    "**Numpy**"
   ]
  },
  {
   "cell_type": "markdown",
   "metadata": {},
   "source": [
    "a) Crie um array NumPy que contenha os números inteiros de 1 a 10."
   ]
  },
  {
   "cell_type": "code",
   "execution_count": 151,
   "metadata": {},
   "outputs": [
    {
     "name": "stdout",
     "output_type": "stream",
     "text": [
      "[ 1  2  3  4  5  6  7  8  9 10]\n"
     ]
    }
   ],
   "source": [
    "import numpy as np\n",
    "array = np.arange(1, 11)\n",
    "print(array)"
   ]
  },
  {
   "cell_type": "markdown",
   "metadata": {},
   "source": [
    "b)Realize operações matemáticas simples com dois arrays NumPy (1 a 5) (6 a 10) como adição, subtração, multiplicação e divisão."
   ]
  },
  {
   "cell_type": "code",
   "execution_count": 157,
   "metadata": {},
   "outputs": [
    {
     "name": "stdout",
     "output_type": "stream",
     "text": [
      "soma [ 7  9 11 13 15]\n",
      "subtracao [5 5 5 5 5]\n",
      "multiplicacao [ 6 14 24 36 50]\n",
      "divisao [6 3 2 2 2]\n"
     ]
    }
   ],
   "source": [
    "a = np.arange(1,6)\n",
    "b = np.arange(6,11)\n",
    "\n",
    "print(\"soma\",a+b)\n",
    "print(\"subtracao\", b-a)\n",
    "print(\"multiplicacao\",a*b)\n",
    "print(\"divisao\", b//a)"
   ]
  },
  {
   "cell_type": "markdown",
   "metadata": {},
   "source": [
    "## QUESTÃO 6"
   ]
  },
  {
   "cell_type": "markdown",
   "metadata": {},
   "source": [
    "Você é um professor e deseja avaliar o desempenho dos alunos nas provas de matemática e ciências naturais da semana. Crie duas matrizes NumPy, uma representando as notas dos alunos em Matemática e outra em Ciências, e calcule a média de cada disciplina."
   ]
  },
  {
   "cell_type": "code",
   "execution_count": 162,
   "metadata": {},
   "outputs": [
    {
     "name": "stdout",
     "output_type": "stream",
     "text": [
      "Media das notas de Matemática = 7.8\n",
      "Media das notas de Ciências = 8.8\n"
     ]
    }
   ],
   "source": [
    "mat = np.array([8.5, 7.2, 9.0, 6.8, 7.5])\n",
    "cien = np.array([9.2, 8.9, 7.8, 8.6, 9.5])\n",
    "\n",
    "print(\"Media das notas de Matemática =\", np.mean(mat))\n",
    "print(\"Media das notas de Ciências =\", np.mean(cien))"
   ]
  },
  {
   "cell_type": "markdown",
   "metadata": {},
   "source": [
    "### DESAFIO"
   ]
  },
  {
   "cell_type": "markdown",
   "metadata": {},
   "source": [
    "Você está organizando um evento e deseja criar um gráfico visual para mostrar a quantidade de ingressos vendidos para cada categoria. Use o Matplotlib para criar um gráfico de barras simples.\n",
    "\n",
    "Instruções:\n",
    "\n",
    "Importe a biblioteca Matplotlib.\n",
    "\n",
    "Crie duas listas: uma representando as categorias de ingressos e outra representando a quantidade de ingressos vendidos em cada categoria. "
   ]
  },
  {
   "cell_type": "code",
   "execution_count": 168,
   "metadata": {},
   "outputs": [
    {
     "data": {
      "image/png": "[encoded data removed]",
      "text/plain": [
       "<Figure size 640x480 with 1 Axes>"
      ]
     },
     "metadata": {},
     "output_type": "display_data"
    }
   ],
   "source": [
    "import matplotlib.pyplot as plt\n",
    "\n",
    "categorias = [\"VIP\", \"Pista\", \"Camarote\", \"Mezanino\"]\n",
    "valores = [120, 250, 80, 40]\n",
    "\n",
    "plt.bar(categorias, valores)\n",
    "plt.xlabel('Tipos de ingresso')\n",
    "plt.ylabel('Quantidade de ingressos')\n",
    "plt.title('Ingressos vendidos pro evento')\n",
    "plt.show()"
   ]
  }
 ],
 "metadata": {
  "kernelspec": {
   "display_name": "Python 3 (ipykernel)",
   "language": "python",
   "name": "python3"
  },
  "language_info": {
   "codemirror_mode": {
    "name": "ipython",
    "version": 3
   },
   "file_extension": ".py",
   "mimetype": "text/x-python",
   "name": "python",
   "nbconvert_exporter": "python",
   "pygments_lexer": "ipython3",
   "version": "3.11.4"
  }
 },
 "nbformat": 4,
 "nbformat_minor": 2
}

{
 "cells": [
  {
   "cell_type": "markdown",
   "metadata": {},
   "source": [
    "Toda nossa lista 5 abordará uma temática única de acordo com a base de dados escolhida para a realização da mesma.\n",
    "\n",
    "**PAÍSES MENOS CORRUPTOS SÃO MAIS FELIZES?**\n",
    "\n",
    "Será que a felicidade e a corrupção têm alguma relação? A resposta a essa pergunta não é tão clara quanto gostaríamos que fosse. A felicidade é o que todos desejam, enquanto a corrupção é frequentemente vista como algo que a sociedade deve combater. No entanto, a conexão direta entre esses dois conceitos é desafiadora de estabelecer.\n",
    "\n",
    "A corrupção é prejudicial, pois mina a confiança nas instituições públicas e distorce a alocação de recursos. Isso certamente não soa como um ingrediente para a felicidade. No entanto, em muitos lugares, a corrupção é endêmica, mas as pessoas ainda relatam altos níveis de felicidade. Isso nos faz questionar se a percepção de felicidade pode ser independente da corrupção.\n",
    "\n",
    "Talvez as pessoas se adaptem à corrupção, ou talvez outros fatores, como economia e segurança, desempenhem um papel mais significativo em sua felicidade. Em última análise, a relação entre felicidade e corrupção é complexa, e as respostas podem variar dependendo do contexto.\n",
    "\n",
    "Portanto, a questão persiste: **será que a corrupção realmente impede a felicidade? Ou será que a felicidade pode ser encontrada em meio à corrupção?**"
   ]
  },
  {
   "cell_type": "markdown",
   "metadata": {},
   "source": [
    "vamos utilizar da base de dados Happiness and Corruption 2015-2020\n",
    "\n",
    "https://www.kaggle.com/datasets/eliasturk/world-happiness-based-on-cpi-20152020\n",
    "\n",
    "para chegar em alguma conclusão sobre o tema"
   ]
  },
  {
   "cell_type": "markdown",
   "metadata": {},
   "source": [
    "## QUESTÃO 0"
   ]
  },
  {
   "cell_type": "markdown",
   "metadata": {},
   "source": [
    "Carregue os dados do arquivo \"happiness_corruption.csv\" em um DataFrame e mostre as primeiras 5 linhas do DataFrame "
   ]
  },
  {
   "cell_type": "code",
   "execution_count": 125,
   "metadata": {},
   "outputs": [
    {
     "data": {
      "text/html": [
       "<div>\n",
       "<style scoped>\n",
       "    .dataframe tbody tr th:only-of-type {\n",
       "        vertical-align: middle;\n",
       "    }\n",
       "\n",
       "    .dataframe tbody tr th {\n",
       "        vertical-align: top;\n",
       "    }\n",
       "\n",
       "    .dataframe thead th {\n",
       "        text-align: right;\n",
       "    }\n",
       "</style>\n",
       "<table border=\"1\" class=\"dataframe\">\n",
       "  <thead>\n",
       "    <tr style=\"text-align: right;\">\n",
       "      <th></th>\n",
       "      <th>Country</th>\n",
       "      <th>happiness_score</th>\n",
       "      <th>gdp_per_capita</th>\n",
       "      <th>family</th>\n",
       "      <th>health</th>\n",
       "      <th>freedom</th>\n",
       "      <th>generosity</th>\n",
       "      <th>government_trust</th>\n",
       "      <th>dystopia_residual</th>\n",
       "      <th>continent</th>\n",
       "      <th>Year</th>\n",
       "      <th>social_support</th>\n",
       "      <th>cpi_score</th>\n",
       "    </tr>\n",
       "  </thead>\n",
       "  <tbody>\n",
       "    <tr>\n",
       "      <th>0</th>\n",
       "      <td>Norway</td>\n",
       "      <td>7.537</td>\n",
       "      <td>1.616463</td>\n",
       "      <td>1.533524</td>\n",
       "      <td>0.796667</td>\n",
       "      <td>0.635423</td>\n",
       "      <td>0.362012</td>\n",
       "      <td>0.315964</td>\n",
       "      <td>2.277027</td>\n",
       "      <td>Europe</td>\n",
       "      <td>2015</td>\n",
       "      <td>0.0</td>\n",
       "      <td>88</td>\n",
       "    </tr>\n",
       "    <tr>\n",
       "      <th>1</th>\n",
       "      <td>Denmark</td>\n",
       "      <td>7.522</td>\n",
       "      <td>1.482383</td>\n",
       "      <td>1.551122</td>\n",
       "      <td>0.792566</td>\n",
       "      <td>0.626007</td>\n",
       "      <td>0.355280</td>\n",
       "      <td>0.400770</td>\n",
       "      <td>2.313707</td>\n",
       "      <td>Europe</td>\n",
       "      <td>2015</td>\n",
       "      <td>0.0</td>\n",
       "      <td>91</td>\n",
       "    </tr>\n",
       "    <tr>\n",
       "      <th>2</th>\n",
       "      <td>Iceland</td>\n",
       "      <td>7.504</td>\n",
       "      <td>1.480633</td>\n",
       "      <td>1.610574</td>\n",
       "      <td>0.833552</td>\n",
       "      <td>0.627163</td>\n",
       "      <td>0.475540</td>\n",
       "      <td>0.153527</td>\n",
       "      <td>2.322715</td>\n",
       "      <td>Europe</td>\n",
       "      <td>2015</td>\n",
       "      <td>0.0</td>\n",
       "      <td>79</td>\n",
       "    </tr>\n",
       "    <tr>\n",
       "      <th>3</th>\n",
       "      <td>Switzerland</td>\n",
       "      <td>7.494</td>\n",
       "      <td>1.564980</td>\n",
       "      <td>1.516912</td>\n",
       "      <td>0.858131</td>\n",
       "      <td>0.620071</td>\n",
       "      <td>0.290549</td>\n",
       "      <td>0.367007</td>\n",
       "      <td>2.276716</td>\n",
       "      <td>Europe</td>\n",
       "      <td>2015</td>\n",
       "      <td>0.0</td>\n",
       "      <td>86</td>\n",
       "    </tr>\n",
       "    <tr>\n",
       "      <th>4</th>\n",
       "      <td>Finland</td>\n",
       "      <td>7.469</td>\n",
       "      <td>1.443572</td>\n",
       "      <td>1.540247</td>\n",
       "      <td>0.809158</td>\n",
       "      <td>0.617951</td>\n",
       "      <td>0.245483</td>\n",
       "      <td>0.382612</td>\n",
       "      <td>2.430182</td>\n",
       "      <td>Europe</td>\n",
       "      <td>2015</td>\n",
       "      <td>0.0</td>\n",
       "      <td>90</td>\n",
       "    </tr>\n",
       "  </tbody>\n",
       "</table>\n",
       "</div>"
      ],
      "text/plain": [
       "       Country  happiness_score  gdp_per_capita    family    health   freedom  \\\n",
       "0       Norway            7.537        1.616463  1.533524  0.796667  0.635423   \n",
       "1      Denmark            7.522        1.482383  1.551122  0.792566  0.626007   \n",
       "2      Iceland            7.504        1.480633  1.610574  0.833552  0.627163   \n",
       "3  Switzerland            7.494        1.564980  1.516912  0.858131  0.620071   \n",
       "4      Finland            7.469        1.443572  1.540247  0.809158  0.617951   \n",
       "\n",
       "   generosity  government_trust  dystopia_residual continent  Year  \\\n",
       "0    0.362012          0.315964           2.277027    Europe  2015   \n",
       "1    0.355280          0.400770           2.313707    Europe  2015   \n",
       "2    0.475540          0.153527           2.322715    Europe  2015   \n",
       "3    0.290549          0.367007           2.276716    Europe  2015   \n",
       "4    0.245483          0.382612           2.430182    Europe  2015   \n",
       "\n",
       "   social_support  cpi_score  \n",
       "0             0.0         88  \n",
       "1             0.0         91  \n",
       "2             0.0         79  \n",
       "3             0.0         86  \n",
       "4             0.0         90  "
      ]
     },
     "execution_count": 125,
     "metadata": {},
     "output_type": "execute_result"
    }
   ],
   "source": [
    "import pandas as pd\n",
    "df = pd.read_csv(\"WorldHappiness_Corruption_2015_2020.csv\")\n",
    "df.head()"
   ]
  },
  {
   "cell_type": "markdown",
   "metadata": {},
   "source": [
    "## QUESTÃO 1\n"
   ]
  },
  {
   "cell_type": "markdown",
   "metadata": {},
   "source": [
    "**Exploração Inicial dos Dados**\n",
    "\n",
    "a) Verifique o número de linhas e colunas no DataFrame. **lembre-se do método .shape**\n"
   ]
  },
  {
   "cell_type": "code",
   "execution_count": 24,
   "metadata": {},
   "outputs": [
    {
     "data": {
      "text/plain": [
       "(792, 13)"
      ]
     },
     "execution_count": 24,
     "metadata": {},
     "output_type": "execute_result"
    }
   ],
   "source": [
    "df.shape"
   ]
  },
  {
   "cell_type": "markdown",
   "metadata": {},
   "source": [
    "b) Liste as colunas presentes no DataFrame. **lembre-se do método .columns**\n"
   ]
  },
  {
   "cell_type": "code",
   "execution_count": 25,
   "metadata": {},
   "outputs": [
    {
     "name": "stdout",
     "output_type": "stream",
     "text": [
      "Country\n",
      "happiness_score\n",
      "gdp_per_capita\n",
      "family\n",
      "health\n",
      "freedom\n",
      "generosity\n",
      "government_trust\n",
      "dystopia_residual\n",
      "continent\n",
      "Year\n",
      "social_support\n",
      "cpi_score\n"
     ]
    }
   ],
   "source": [
    "for i in df.columns:\n",
    "    print(i)"
   ]
  },
  {
   "cell_type": "markdown",
   "metadata": {},
   "source": [
    "c) Verifique se há valores nulos em cada coluna."
   ]
  },
  {
   "cell_type": "code",
   "execution_count": 26,
   "metadata": {},
   "outputs": [
    {
     "name": "stdout",
     "output_type": "stream",
     "text": [
      "False\n"
     ]
    }
   ],
   "source": [
    "print(df.isnull().any().any())"
   ]
  },
  {
   "cell_type": "markdown",
   "metadata": {},
   "source": [
    "Não há nenhum valor nulo no dataframe"
   ]
  },
  {
   "cell_type": "markdown",
   "metadata": {},
   "source": [
    "## QUESTÃO 2"
   ]
  },
  {
   "cell_type": "markdown",
   "metadata": {},
   "source": [
    "a) Remova as colunas não relevantes que não serão usadas na análise, como \"generosity\" (generosidade), \"family\"(familia),\n",
    "\"health\"( saúde), \"freedom\" (liberdade), \"dystopia_residual\"(distopia residual), \"social_support\" (suporte social) e \"cpi_score\""
   ]
  },
  {
   "cell_type": "code",
   "execution_count": 126,
   "metadata": {},
   "outputs": [
    {
     "data": {
      "text/html": [
       "<div>\n",
       "<style scoped>\n",
       "    .dataframe tbody tr th:only-of-type {\n",
       "        vertical-align: middle;\n",
       "    }\n",
       "\n",
       "    .dataframe tbody tr th {\n",
       "        vertical-align: top;\n",
       "    }\n",
       "\n",
       "    .dataframe thead th {\n",
       "        text-align: right;\n",
       "    }\n",
       "</style>\n",
       "<table border=\"1\" class=\"dataframe\">\n",
       "  <thead>\n",
       "    <tr style=\"text-align: right;\">\n",
       "      <th></th>\n",
       "      <th>Country</th>\n",
       "      <th>happiness_score</th>\n",
       "      <th>gdp_per_capita</th>\n",
       "      <th>government_trust</th>\n",
       "      <th>continent</th>\n",
       "      <th>Year</th>\n",
       "    </tr>\n",
       "  </thead>\n",
       "  <tbody>\n",
       "    <tr>\n",
       "      <th>0</th>\n",
       "      <td>Norway</td>\n",
       "      <td>7.537</td>\n",
       "      <td>1.616463</td>\n",
       "      <td>0.315964</td>\n",
       "      <td>Europe</td>\n",
       "      <td>2015</td>\n",
       "    </tr>\n",
       "    <tr>\n",
       "      <th>1</th>\n",
       "      <td>Denmark</td>\n",
       "      <td>7.522</td>\n",
       "      <td>1.482383</td>\n",
       "      <td>0.400770</td>\n",
       "      <td>Europe</td>\n",
       "      <td>2015</td>\n",
       "    </tr>\n",
       "    <tr>\n",
       "      <th>2</th>\n",
       "      <td>Iceland</td>\n",
       "      <td>7.504</td>\n",
       "      <td>1.480633</td>\n",
       "      <td>0.153527</td>\n",
       "      <td>Europe</td>\n",
       "      <td>2015</td>\n",
       "    </tr>\n",
       "    <tr>\n",
       "      <th>3</th>\n",
       "      <td>Switzerland</td>\n",
       "      <td>7.494</td>\n",
       "      <td>1.564980</td>\n",
       "      <td>0.367007</td>\n",
       "      <td>Europe</td>\n",
       "      <td>2015</td>\n",
       "    </tr>\n",
       "    <tr>\n",
       "      <th>4</th>\n",
       "      <td>Finland</td>\n",
       "      <td>7.469</td>\n",
       "      <td>1.443572</td>\n",
       "      <td>0.382612</td>\n",
       "      <td>Europe</td>\n",
       "      <td>2015</td>\n",
       "    </tr>\n",
       "    <tr>\n",
       "      <th>5</th>\n",
       "      <td>Netherlands</td>\n",
       "      <td>7.377</td>\n",
       "      <td>1.503945</td>\n",
       "      <td>0.282662</td>\n",
       "      <td>Europe</td>\n",
       "      <td>2015</td>\n",
       "    </tr>\n",
       "  </tbody>\n",
       "</table>\n",
       "</div>"
      ],
      "text/plain": [
       "       Country  happiness_score  gdp_per_capita  government_trust continent  \\\n",
       "0       Norway            7.537        1.616463          0.315964    Europe   \n",
       "1      Denmark            7.522        1.482383          0.400770    Europe   \n",
       "2      Iceland            7.504        1.480633          0.153527    Europe   \n",
       "3  Switzerland            7.494        1.564980          0.367007    Europe   \n",
       "4      Finland            7.469        1.443572          0.382612    Europe   \n",
       "5  Netherlands            7.377        1.503945          0.282662    Europe   \n",
       "\n",
       "   Year  \n",
       "0  2015  \n",
       "1  2015  \n",
       "2  2015  \n",
       "3  2015  \n",
       "4  2015  \n",
       "5  2015  "
      ]
     },
     "execution_count": 126,
     "metadata": {},
     "output_type": "execute_result"
    }
   ],
   "source": [
    "df = df.drop(['generosity', 'family', 'health', 'freedom', 'dystopia_residual', 'social_support', 'cpi_score' ], axis=1)\n",
    "df.head(6)"
   ]
  },
  {
   "cell_type": "code",
   "execution_count": 6,
   "metadata": {},
   "outputs": [
    {
     "data": {
      "text/plain": [
       "(792, 6)"
      ]
     },
     "execution_count": 6,
     "metadata": {},
     "output_type": "execute_result"
    }
   ],
   "source": [
    "df.shape"
   ]
  },
  {
   "cell_type": "markdown",
   "metadata": {},
   "source": [
    "b) \n",
    "Renomeie as colunas para torná-las mais descritivas. Por exemplo, renomeie \"Score\" para \"Pontuacao_Felicidade\", \"Country\" para \"Países\", \"GDP per capita\" para \"PIB_Per_Capita\", \"continent\" para \"Continentes\", \"Year\" para \"ano\" e government_trust para \"confian_gov\"."
   ]
  },
  {
   "cell_type": "code",
   "execution_count": 127,
   "metadata": {},
   "outputs": [
    {
     "data": {
      "text/html": [
       "<div>\n",
       "<style scoped>\n",
       "    .dataframe tbody tr th:only-of-type {\n",
       "        vertical-align: middle;\n",
       "    }\n",
       "\n",
       "    .dataframe tbody tr th {\n",
       "        vertical-align: top;\n",
       "    }\n",
       "\n",
       "    .dataframe thead th {\n",
       "        text-align: right;\n",
       "    }\n",
       "</style>\n",
       "<table border=\"1\" class=\"dataframe\">\n",
       "  <thead>\n",
       "    <tr style=\"text-align: right;\">\n",
       "      <th></th>\n",
       "      <th>Países</th>\n",
       "      <th>Felicidade</th>\n",
       "      <th>PIB_Per_Capita</th>\n",
       "      <th>confian_gov</th>\n",
       "      <th>Continentes</th>\n",
       "      <th>Ano</th>\n",
       "    </tr>\n",
       "  </thead>\n",
       "  <tbody>\n",
       "    <tr>\n",
       "      <th>0</th>\n",
       "      <td>Norway</td>\n",
       "      <td>7.537</td>\n",
       "      <td>1.616463</td>\n",
       "      <td>0.315964</td>\n",
       "      <td>Europe</td>\n",
       "      <td>2015</td>\n",
       "    </tr>\n",
       "    <tr>\n",
       "      <th>1</th>\n",
       "      <td>Denmark</td>\n",
       "      <td>7.522</td>\n",
       "      <td>1.482383</td>\n",
       "      <td>0.400770</td>\n",
       "      <td>Europe</td>\n",
       "      <td>2015</td>\n",
       "    </tr>\n",
       "    <tr>\n",
       "      <th>2</th>\n",
       "      <td>Iceland</td>\n",
       "      <td>7.504</td>\n",
       "      <td>1.480633</td>\n",
       "      <td>0.153527</td>\n",
       "      <td>Europe</td>\n",
       "      <td>2015</td>\n",
       "    </tr>\n",
       "    <tr>\n",
       "      <th>3</th>\n",
       "      <td>Switzerland</td>\n",
       "      <td>7.494</td>\n",
       "      <td>1.564980</td>\n",
       "      <td>0.367007</td>\n",
       "      <td>Europe</td>\n",
       "      <td>2015</td>\n",
       "    </tr>\n",
       "    <tr>\n",
       "      <th>4</th>\n",
       "      <td>Finland</td>\n",
       "      <td>7.469</td>\n",
       "      <td>1.443572</td>\n",
       "      <td>0.382612</td>\n",
       "      <td>Europe</td>\n",
       "      <td>2015</td>\n",
       "    </tr>\n",
       "  </tbody>\n",
       "</table>\n",
       "</div>"
      ],
      "text/plain": [
       "        Países  Felicidade  PIB_Per_Capita  confian_gov Continentes   Ano\n",
       "0       Norway       7.537        1.616463     0.315964      Europe  2015\n",
       "1      Denmark       7.522        1.482383     0.400770      Europe  2015\n",
       "2      Iceland       7.504        1.480633     0.153527      Europe  2015\n",
       "3  Switzerland       7.494        1.564980     0.367007      Europe  2015\n",
       "4      Finland       7.469        1.443572     0.382612      Europe  2015"
      ]
     },
     "execution_count": 127,
     "metadata": {},
     "output_type": "execute_result"
    }
   ],
   "source": [
    "df.rename(columns={'Country':'Países', 'happiness_score': \"Felicidade\", 'gdp_per_capita': \"PIB_Per_Capita\",\n",
    "                   'government_trust': 'confian_gov', 'continent' : 'Continentes', 'Year': \"Ano\"}, inplace=True)\n",
    "df.head()"
   ]
  },
  {
   "cell_type": "markdown",
   "metadata": {},
   "source": [
    "## QUESTÃO 3\n",
    "\n"
   ]
  },
  {
   "cell_type": "markdown",
   "metadata": {},
   "source": [
    "**Estatísticas Descritivas**\n",
    "\n",
    "Calcule estatísticas descritivas para as colunas relevantes: \"Score\" (pontuação de felicidade), \"GDP per capita\" (PIB per capita) e \"Corruption Perception\" (percepção de corrupção) e . Mostre a média, mediana, desvio padrão, mínimo e máximo para cada uma dessas colunas."
   ]
  },
  {
   "cell_type": "code",
   "execution_count": 69,
   "metadata": {},
   "outputs": [
    {
     "data": {
      "text/html": [
       "<div>\n",
       "<style scoped>\n",
       "    .dataframe tbody tr th:only-of-type {\n",
       "        vertical-align: middle;\n",
       "    }\n",
       "\n",
       "    .dataframe tbody tr th {\n",
       "        vertical-align: top;\n",
       "    }\n",
       "\n",
       "    .dataframe thead th {\n",
       "        text-align: right;\n",
       "    }\n",
       "</style>\n",
       "<table border=\"1\" class=\"dataframe\">\n",
       "  <thead>\n",
       "    <tr style=\"text-align: right;\">\n",
       "      <th></th>\n",
       "      <th>Felicidade</th>\n",
       "      <th>PIB_Per_Capita</th>\n",
       "      <th>confian_gov</th>\n",
       "    </tr>\n",
       "  </thead>\n",
       "  <tbody>\n",
       "    <tr>\n",
       "      <th>count</th>\n",
       "      <td>792.000000</td>\n",
       "      <td>792.000000</td>\n",
       "      <td>792.000000</td>\n",
       "    </tr>\n",
       "    <tr>\n",
       "      <th>mean</th>\n",
       "      <td>5.473310</td>\n",
       "      <td>0.929217</td>\n",
       "      <td>0.125720</td>\n",
       "    </tr>\n",
       "    <tr>\n",
       "      <th>std</th>\n",
       "      <td>1.124726</td>\n",
       "      <td>0.385774</td>\n",
       "      <td>0.109032</td>\n",
       "    </tr>\n",
       "    <tr>\n",
       "      <th>min</th>\n",
       "      <td>2.566900</td>\n",
       "      <td>0.000000</td>\n",
       "      <td>0.000000</td>\n",
       "    </tr>\n",
       "    <tr>\n",
       "      <th>25%</th>\n",
       "      <td>4.590750</td>\n",
       "      <td>0.644242</td>\n",
       "      <td>0.052862</td>\n",
       "    </tr>\n",
       "    <tr>\n",
       "      <th>50%</th>\n",
       "      <td>5.485500</td>\n",
       "      <td>0.994544</td>\n",
       "      <td>0.089000</td>\n",
       "    </tr>\n",
       "    <tr>\n",
       "      <th>75%</th>\n",
       "      <td>6.300500</td>\n",
       "      <td>1.228677</td>\n",
       "      <td>0.154250</td>\n",
       "    </tr>\n",
       "    <tr>\n",
       "      <th>max</th>\n",
       "      <td>7.808700</td>\n",
       "      <td>2.096000</td>\n",
       "      <td>0.551910</td>\n",
       "    </tr>\n",
       "  </tbody>\n",
       "</table>\n",
       "</div>"
      ],
      "text/plain": [
       "       Felicidade  PIB_Per_Capita  confian_gov\n",
       "count  792.000000      792.000000   792.000000\n",
       "mean     5.473310        0.929217     0.125720\n",
       "std      1.124726        0.385774     0.109032\n",
       "min      2.566900        0.000000     0.000000\n",
       "25%      4.590750        0.644242     0.052862\n",
       "50%      5.485500        0.994544     0.089000\n",
       "75%      6.300500        1.228677     0.154250\n",
       "max      7.808700        2.096000     0.551910"
      ]
     },
     "execution_count": 69,
     "metadata": {},
     "output_type": "execute_result"
    }
   ],
   "source": [
    "x = df.describe()\n",
    "x.drop(['Ano'], axis=1, inplace=True)\n",
    "x.head(8)"
   ]
  },
  {
   "cell_type": "code",
   "execution_count": 70,
   "metadata": {},
   "outputs": [
    {
     "data": {
      "text/html": [
       "<div>\n",
       "<style scoped>\n",
       "    .dataframe tbody tr th:only-of-type {\n",
       "        vertical-align: middle;\n",
       "    }\n",
       "\n",
       "    .dataframe tbody tr th {\n",
       "        vertical-align: top;\n",
       "    }\n",
       "\n",
       "    .dataframe thead th {\n",
       "        text-align: right;\n",
       "    }\n",
       "</style>\n",
       "<table border=\"1\" class=\"dataframe\">\n",
       "  <thead>\n",
       "    <tr style=\"text-align: right;\">\n",
       "      <th></th>\n",
       "      <th>Felicidade</th>\n",
       "      <th>PIB_Per_Capita</th>\n",
       "      <th>confian_gov</th>\n",
       "    </tr>\n",
       "  </thead>\n",
       "  <tbody>\n",
       "    <tr>\n",
       "      <th>mean</th>\n",
       "      <td>5.473310</td>\n",
       "      <td>0.929217</td>\n",
       "      <td>0.125720</td>\n",
       "    </tr>\n",
       "    <tr>\n",
       "      <th>std</th>\n",
       "      <td>1.124726</td>\n",
       "      <td>0.385774</td>\n",
       "      <td>0.109032</td>\n",
       "    </tr>\n",
       "    <tr>\n",
       "      <th>min</th>\n",
       "      <td>2.566900</td>\n",
       "      <td>0.000000</td>\n",
       "      <td>0.000000</td>\n",
       "    </tr>\n",
       "    <tr>\n",
       "      <th>Mediana</th>\n",
       "      <td>5.485500</td>\n",
       "      <td>0.994544</td>\n",
       "      <td>0.089000</td>\n",
       "    </tr>\n",
       "    <tr>\n",
       "      <th>max</th>\n",
       "      <td>7.808700</td>\n",
       "      <td>2.096000</td>\n",
       "      <td>0.551910</td>\n",
       "    </tr>\n",
       "  </tbody>\n",
       "</table>\n",
       "</div>"
      ],
      "text/plain": [
       "         Felicidade  PIB_Per_Capita  confian_gov\n",
       "mean       5.473310        0.929217     0.125720\n",
       "std        1.124726        0.385774     0.109032\n",
       "min        2.566900        0.000000     0.000000\n",
       "Mediana    5.485500        0.994544     0.089000\n",
       "max        7.808700        2.096000     0.551910"
      ]
     },
     "execution_count": 70,
     "metadata": {},
     "output_type": "execute_result"
    }
   ],
   "source": [
    "x.drop(['count', '25%', '75%'], axis=0, inplace=True)\n",
    "x.rename(index={'50%':'Mediana'}, inplace = True) \n",
    "x.head(5)"
   ]
  },
  {
   "cell_type": "markdown",
   "metadata": {},
   "source": [
    "## QUESTÃO 4"
   ]
  },
  {
   "cell_type": "markdown",
   "metadata": {},
   "source": [
    "Vamos usar somente o ano de 2019 para facilitar a análise."
   ]
  },
  {
   "cell_type": "markdown",
   "metadata": {},
   "source": [
    "a) Incluir no dataframe apenas as linhas do ano de 2019"
   ]
  },
  {
   "cell_type": "code",
   "execution_count": 71,
   "metadata": {},
   "outputs": [
    {
     "data": {
      "text/html": [
       "<div>\n",
       "<style scoped>\n",
       "    .dataframe tbody tr th:only-of-type {\n",
       "        vertical-align: middle;\n",
       "    }\n",
       "\n",
       "    .dataframe tbody tr th {\n",
       "        vertical-align: top;\n",
       "    }\n",
       "\n",
       "    .dataframe thead th {\n",
       "        text-align: right;\n",
       "    }\n",
       "</style>\n",
       "<table border=\"1\" class=\"dataframe\">\n",
       "  <thead>\n",
       "    <tr style=\"text-align: right;\">\n",
       "      <th></th>\n",
       "      <th>Países</th>\n",
       "      <th>Felicidade</th>\n",
       "      <th>PIB_Per_Capita</th>\n",
       "      <th>confian_gov</th>\n",
       "      <th>Continentes</th>\n",
       "      <th>Ano</th>\n",
       "    </tr>\n",
       "  </thead>\n",
       "  <tbody>\n",
       "    <tr>\n",
       "      <th>528</th>\n",
       "      <td>Denmark</td>\n",
       "      <td>7.526</td>\n",
       "      <td>1.44178</td>\n",
       "      <td>0.44453</td>\n",
       "      <td>Europe</td>\n",
       "      <td>2019</td>\n",
       "    </tr>\n",
       "    <tr>\n",
       "      <th>529</th>\n",
       "      <td>Switzerland</td>\n",
       "      <td>7.509</td>\n",
       "      <td>1.52733</td>\n",
       "      <td>0.41203</td>\n",
       "      <td>Europe</td>\n",
       "      <td>2019</td>\n",
       "    </tr>\n",
       "    <tr>\n",
       "      <th>530</th>\n",
       "      <td>Iceland</td>\n",
       "      <td>7.501</td>\n",
       "      <td>1.42666</td>\n",
       "      <td>0.14975</td>\n",
       "      <td>Europe</td>\n",
       "      <td>2019</td>\n",
       "    </tr>\n",
       "    <tr>\n",
       "      <th>531</th>\n",
       "      <td>Norway</td>\n",
       "      <td>7.498</td>\n",
       "      <td>1.57744</td>\n",
       "      <td>0.35776</td>\n",
       "      <td>Europe</td>\n",
       "      <td>2019</td>\n",
       "    </tr>\n",
       "    <tr>\n",
       "      <th>532</th>\n",
       "      <td>Finland</td>\n",
       "      <td>7.413</td>\n",
       "      <td>1.40598</td>\n",
       "      <td>0.41004</td>\n",
       "      <td>Europe</td>\n",
       "      <td>2019</td>\n",
       "    </tr>\n",
       "    <tr>\n",
       "      <th>533</th>\n",
       "      <td>Canada</td>\n",
       "      <td>7.404</td>\n",
       "      <td>1.44015</td>\n",
       "      <td>0.31329</td>\n",
       "      <td>North America</td>\n",
       "      <td>2019</td>\n",
       "    </tr>\n",
       "    <tr>\n",
       "      <th>534</th>\n",
       "      <td>Netherlands</td>\n",
       "      <td>7.339</td>\n",
       "      <td>1.46468</td>\n",
       "      <td>0.29927</td>\n",
       "      <td>Europe</td>\n",
       "      <td>2019</td>\n",
       "    </tr>\n",
       "    <tr>\n",
       "      <th>535</th>\n",
       "      <td>New Zealand</td>\n",
       "      <td>7.334</td>\n",
       "      <td>1.36066</td>\n",
       "      <td>0.41904</td>\n",
       "      <td>Australia</td>\n",
       "      <td>2019</td>\n",
       "    </tr>\n",
       "    <tr>\n",
       "      <th>536</th>\n",
       "      <td>Australia</td>\n",
       "      <td>7.313</td>\n",
       "      <td>1.44443</td>\n",
       "      <td>0.32331</td>\n",
       "      <td>Australia</td>\n",
       "      <td>2019</td>\n",
       "    </tr>\n",
       "    <tr>\n",
       "      <th>537</th>\n",
       "      <td>Sweden</td>\n",
       "      <td>7.291</td>\n",
       "      <td>1.45181</td>\n",
       "      <td>0.40867</td>\n",
       "      <td>Europe</td>\n",
       "      <td>2019</td>\n",
       "    </tr>\n",
       "  </tbody>\n",
       "</table>\n",
       "</div>"
      ],
      "text/plain": [
       "          Países  Felicidade  PIB_Per_Capita  confian_gov    Continentes   Ano\n",
       "528      Denmark       7.526         1.44178      0.44453         Europe  2019\n",
       "529  Switzerland       7.509         1.52733      0.41203         Europe  2019\n",
       "530      Iceland       7.501         1.42666      0.14975         Europe  2019\n",
       "531       Norway       7.498         1.57744      0.35776         Europe  2019\n",
       "532      Finland       7.413         1.40598      0.41004         Europe  2019\n",
       "533       Canada       7.404         1.44015      0.31329  North America  2019\n",
       "534  Netherlands       7.339         1.46468      0.29927         Europe  2019\n",
       "535  New Zealand       7.334         1.36066      0.41904      Australia  2019\n",
       "536    Australia       7.313         1.44443      0.32331      Australia  2019\n",
       "537       Sweden       7.291         1.45181      0.40867         Europe  2019"
      ]
     },
     "execution_count": 71,
     "metadata": {},
     "output_type": "execute_result"
    }
   ],
   "source": [
    "mask = df['Ano'] == 2019\n",
    "df2019 = df[mask]\n",
    "df2019.head(10)"
   ]
  },
  {
   "cell_type": "code",
   "execution_count": 72,
   "metadata": {},
   "outputs": [
    {
     "name": "stdout",
     "output_type": "stream",
     "text": [
      "5.430704545454546\n"
     ]
    }
   ],
   "source": [
    "print(df2019['Felicidade'].mean())"
   ]
  },
  {
   "cell_type": "markdown",
   "metadata": {},
   "source": [
    "b) Criar um novo DataFrame com países que têm pontuação de felicidade acima da média global ( do exercicio anterior)"
   ]
  },
  {
   "cell_type": "code",
   "execution_count": 73,
   "metadata": {},
   "outputs": [
    {
     "data": {
      "text/html": [
       "<div>\n",
       "<style scoped>\n",
       "    .dataframe tbody tr th:only-of-type {\n",
       "        vertical-align: middle;\n",
       "    }\n",
       "\n",
       "    .dataframe tbody tr th {\n",
       "        vertical-align: top;\n",
       "    }\n",
       "\n",
       "    .dataframe thead th {\n",
       "        text-align: right;\n",
       "    }\n",
       "</style>\n",
       "<table border=\"1\" class=\"dataframe\">\n",
       "  <thead>\n",
       "    <tr style=\"text-align: right;\">\n",
       "      <th></th>\n",
       "      <th>Países</th>\n",
       "      <th>Felicidade</th>\n",
       "      <th>PIB_Per_Capita</th>\n",
       "      <th>confian_gov</th>\n",
       "      <th>Continentes</th>\n",
       "      <th>Ano</th>\n",
       "    </tr>\n",
       "  </thead>\n",
       "  <tbody>\n",
       "    <tr>\n",
       "      <th>528</th>\n",
       "      <td>Denmark</td>\n",
       "      <td>7.526</td>\n",
       "      <td>1.44178</td>\n",
       "      <td>0.44453</td>\n",
       "      <td>Europe</td>\n",
       "      <td>2019</td>\n",
       "    </tr>\n",
       "    <tr>\n",
       "      <th>529</th>\n",
       "      <td>Switzerland</td>\n",
       "      <td>7.509</td>\n",
       "      <td>1.52733</td>\n",
       "      <td>0.41203</td>\n",
       "      <td>Europe</td>\n",
       "      <td>2019</td>\n",
       "    </tr>\n",
       "    <tr>\n",
       "      <th>530</th>\n",
       "      <td>Iceland</td>\n",
       "      <td>7.501</td>\n",
       "      <td>1.42666</td>\n",
       "      <td>0.14975</td>\n",
       "      <td>Europe</td>\n",
       "      <td>2019</td>\n",
       "    </tr>\n",
       "    <tr>\n",
       "      <th>531</th>\n",
       "      <td>Norway</td>\n",
       "      <td>7.498</td>\n",
       "      <td>1.57744</td>\n",
       "      <td>0.35776</td>\n",
       "      <td>Europe</td>\n",
       "      <td>2019</td>\n",
       "    </tr>\n",
       "    <tr>\n",
       "      <th>532</th>\n",
       "      <td>Finland</td>\n",
       "      <td>7.413</td>\n",
       "      <td>1.40598</td>\n",
       "      <td>0.41004</td>\n",
       "      <td>Europe</td>\n",
       "      <td>2019</td>\n",
       "    </tr>\n",
       "    <tr>\n",
       "      <th>533</th>\n",
       "      <td>Canada</td>\n",
       "      <td>7.404</td>\n",
       "      <td>1.44015</td>\n",
       "      <td>0.31329</td>\n",
       "      <td>North America</td>\n",
       "      <td>2019</td>\n",
       "    </tr>\n",
       "    <tr>\n",
       "      <th>534</th>\n",
       "      <td>Netherlands</td>\n",
       "      <td>7.339</td>\n",
       "      <td>1.46468</td>\n",
       "      <td>0.29927</td>\n",
       "      <td>Europe</td>\n",
       "      <td>2019</td>\n",
       "    </tr>\n",
       "    <tr>\n",
       "      <th>535</th>\n",
       "      <td>New Zealand</td>\n",
       "      <td>7.334</td>\n",
       "      <td>1.36066</td>\n",
       "      <td>0.41904</td>\n",
       "      <td>Australia</td>\n",
       "      <td>2019</td>\n",
       "    </tr>\n",
       "    <tr>\n",
       "      <th>536</th>\n",
       "      <td>Australia</td>\n",
       "      <td>7.313</td>\n",
       "      <td>1.44443</td>\n",
       "      <td>0.32331</td>\n",
       "      <td>Australia</td>\n",
       "      <td>2019</td>\n",
       "    </tr>\n",
       "    <tr>\n",
       "      <th>537</th>\n",
       "      <td>Sweden</td>\n",
       "      <td>7.291</td>\n",
       "      <td>1.45181</td>\n",
       "      <td>0.40867</td>\n",
       "      <td>Europe</td>\n",
       "      <td>2019</td>\n",
       "    </tr>\n",
       "  </tbody>\n",
       "</table>\n",
       "</div>"
      ],
      "text/plain": [
       "          Países  Felicidade  PIB_Per_Capita  confian_gov    Continentes   Ano\n",
       "528      Denmark       7.526         1.44178      0.44453         Europe  2019\n",
       "529  Switzerland       7.509         1.52733      0.41203         Europe  2019\n",
       "530      Iceland       7.501         1.42666      0.14975         Europe  2019\n",
       "531       Norway       7.498         1.57744      0.35776         Europe  2019\n",
       "532      Finland       7.413         1.40598      0.41004         Europe  2019\n",
       "533       Canada       7.404         1.44015      0.31329  North America  2019\n",
       "534  Netherlands       7.339         1.46468      0.29927         Europe  2019\n",
       "535  New Zealand       7.334         1.36066      0.41904      Australia  2019\n",
       "536    Australia       7.313         1.44443      0.32331      Australia  2019\n",
       "537       Sweden       7.291         1.45181      0.40867         Europe  2019"
      ]
     },
     "execution_count": 73,
     "metadata": {},
     "output_type": "execute_result"
    }
   ],
   "source": [
    "mask2 = df2019['Felicidade'] > df2019['Felicidade'].mean()\n",
    "df2 = df2019[mask2]\n",
    "df2.head(10)"
   ]
  },
  {
   "cell_type": "code",
   "execution_count": 74,
   "metadata": {},
   "outputs": [
    {
     "data": {
      "text/plain": [
       "6.411107692307693"
      ]
     },
     "execution_count": 74,
     "metadata": {},
     "output_type": "execute_result"
    }
   ],
   "source": [
    "df2['Felicidade'].mean()"
   ]
  },
  {
   "cell_type": "markdown",
   "metadata": {},
   "source": [
    "A media subiu mesmo, fiz isso pra testar se tinha realmente removido os valores abaixo da media"
   ]
  },
  {
   "cell_type": "markdown",
   "metadata": {},
   "source": [
    "# QUESTÃO 5"
   ]
  },
  {
   "cell_type": "markdown",
   "metadata": {},
   "source": [
    "**Classificação**\n",
    "\n",
    "Classifique o DataFrame resultante do Exercício 4 pela coluna \"Score\" em ordem decrescente. Mostre os 10 países com as maiores pontuações de felicidade. Isso é útil para responder a perguntas como:\n",
    "\n",
    "Quais países têm os maiores níveis de felicidade? A classificação em ordem decrescente fornece uma lista dos países com as maiores pontuações de felicidade, destacando aqueles que estão no topo da lista.\n",
    "\n",
    "Houve alguma mudança significativa na classificação da felicidade ao longo do tempo? Comparando a classificação em diferentes anos, é possível identificar se houve mudanças significativas na pontuação de felicidade de países específicos.\n",
    "\n",
    "Quais países são modelos de sucesso em termos de felicidade? A classificação ajuda a identificar países que são frequentemente citados como exemplos de sucesso em termos de bem-estar e qualidade de vida."
   ]
  },
  {
   "cell_type": "code",
   "execution_count": 95,
   "metadata": {},
   "outputs": [],
   "source": [
    "df_sorted2019 = df2019.sort_values(by='Felicidade', ascending=False)\n",
    "df_sorted2019.drop(['PIB_Per_Capita', 'confian_gov', 'Continentes', 'Ano'], axis=1, inplace=True)\n",
    "df_sorted2019.rename(columns={'Felicidade':'2019'}, inplace=True)"
   ]
  },
  {
   "cell_type": "code",
   "execution_count": 96,
   "metadata": {},
   "outputs": [],
   "source": [
    "mask = df['Ano'] == 2016\n",
    "df2016 = df[mask]\n",
    "df_sorted2016 = df2016.sort_values(by='Felicidade', ascending=False)\n",
    "df_sorted2016.drop(['PIB_Per_Capita', 'confian_gov', 'Continentes', 'Ano'], axis=1, inplace=True)\n",
    "df_sorted2016.rename(columns={'Felicidade':'2016'}, inplace=True)"
   ]
  },
  {
   "cell_type": "code",
   "execution_count": 97,
   "metadata": {},
   "outputs": [],
   "source": [
    "mask = df['Ano'] == 2017\n",
    "df2017 = df[mask]\n",
    "df_sorted2017 = df2017.sort_values(by='Felicidade', ascending=False)\n",
    "df_sorted2017.drop(['PIB_Per_Capita', 'confian_gov', 'Continentes', 'Ano'], axis=1, inplace=True)\n",
    "df_sorted2017.rename(columns={'Felicidade':'2017'}, inplace=True)\n",
    "\n",
    "mask = df['Ano'] == 2018\n",
    "df2018 = df[mask]\n",
    "df_sorted2018 = df2018.sort_values(by='Felicidade', ascending=False)\n",
    "df_sorted2018.drop(['PIB_Per_Capita', 'confian_gov', 'Continentes', 'Ano'], axis=1, inplace=True)\n",
    "df_sorted2018.rename(columns={'Felicidade':'2018'}, inplace=True)\n",
    "\n",
    "mask = df['Ano'] == 2020\n",
    "df2020 = df[mask]\n",
    "df_sorted2020 = df2020.sort_values(by='Felicidade', ascending=False)\n",
    "df_sorted2020.drop(['PIB_Per_Capita', 'confian_gov', 'Continentes', 'Ano'], axis=1, inplace=True)\n",
    "df_sorted2020.rename(columns={'Felicidade':'2020'}, inplace=True)\n",
    "\n",
    "mask = df['Ano'] == 2015\n",
    "df2015 = df[mask]\n",
    "df_sorted2015 = df2015.sort_values(by='Felicidade', ascending=False)\n",
    "df_sorted2015.drop(['PIB_Per_Capita', 'confian_gov', 'Continentes', 'Ano'], axis=1, inplace=True)\n",
    "df_sorted2015.rename(columns={'Felicidade':'2015'}, inplace=True)"
   ]
  },
  {
   "cell_type": "code",
   "execution_count": 101,
   "metadata": {
    "scrolled": true
   },
   "outputs": [
    {
     "data": {
      "text/html": [
       "<div>\n",
       "<style scoped>\n",
       "    .dataframe tbody tr th:only-of-type {\n",
       "        vertical-align: middle;\n",
       "    }\n",
       "\n",
       "    .dataframe tbody tr th {\n",
       "        vertical-align: top;\n",
       "    }\n",
       "\n",
       "    .dataframe thead th {\n",
       "        text-align: right;\n",
       "    }\n",
       "</style>\n",
       "<table border=\"1\" class=\"dataframe\">\n",
       "  <thead>\n",
       "    <tr style=\"text-align: right;\">\n",
       "      <th></th>\n",
       "      <th>Países</th>\n",
       "      <th>2015</th>\n",
       "      <th>2016</th>\n",
       "      <th>2017</th>\n",
       "      <th>2018</th>\n",
       "      <th>2019</th>\n",
       "      <th>2020</th>\n",
       "    </tr>\n",
       "  </thead>\n",
       "  <tbody>\n",
       "    <tr>\n",
       "      <th>4</th>\n",
       "      <td>Finland</td>\n",
       "      <td>7.469</td>\n",
       "      <td>7.406</td>\n",
       "      <td>7.769</td>\n",
       "      <td>7.632</td>\n",
       "      <td>7.413</td>\n",
       "      <td>7.8087</td>\n",
       "    </tr>\n",
       "    <tr>\n",
       "      <th>1</th>\n",
       "      <td>Denmark</td>\n",
       "      <td>7.522</td>\n",
       "      <td>7.527</td>\n",
       "      <td>7.600</td>\n",
       "      <td>7.555</td>\n",
       "      <td>7.526</td>\n",
       "      <td>7.6456</td>\n",
       "    </tr>\n",
       "    <tr>\n",
       "      <th>3</th>\n",
       "      <td>Switzerland</td>\n",
       "      <td>7.494</td>\n",
       "      <td>7.587</td>\n",
       "      <td>7.480</td>\n",
       "      <td>7.487</td>\n",
       "      <td>7.509</td>\n",
       "      <td>7.5599</td>\n",
       "    </tr>\n",
       "    <tr>\n",
       "      <th>2</th>\n",
       "      <td>Iceland</td>\n",
       "      <td>7.504</td>\n",
       "      <td>7.561</td>\n",
       "      <td>7.494</td>\n",
       "      <td>7.495</td>\n",
       "      <td>7.501</td>\n",
       "      <td>7.5045</td>\n",
       "    </tr>\n",
       "    <tr>\n",
       "      <th>0</th>\n",
       "      <td>Norway</td>\n",
       "      <td>7.537</td>\n",
       "      <td>7.522</td>\n",
       "      <td>7.554</td>\n",
       "      <td>7.594</td>\n",
       "      <td>7.498</td>\n",
       "      <td>7.4880</td>\n",
       "    </tr>\n",
       "    <tr>\n",
       "      <th>5</th>\n",
       "      <td>Netherlands</td>\n",
       "      <td>7.377</td>\n",
       "      <td>7.378</td>\n",
       "      <td>7.488</td>\n",
       "      <td>7.441</td>\n",
       "      <td>7.339</td>\n",
       "      <td>7.4489</td>\n",
       "    </tr>\n",
       "    <tr>\n",
       "      <th>8</th>\n",
       "      <td>Sweden</td>\n",
       "      <td>7.284</td>\n",
       "      <td>7.364</td>\n",
       "      <td>7.343</td>\n",
       "      <td>7.314</td>\n",
       "      <td>7.291</td>\n",
       "      <td>7.3535</td>\n",
       "    </tr>\n",
       "    <tr>\n",
       "      <th>7</th>\n",
       "      <td>New Zealand</td>\n",
       "      <td>7.314</td>\n",
       "      <td>7.286</td>\n",
       "      <td>7.307</td>\n",
       "      <td>7.324</td>\n",
       "      <td>7.334</td>\n",
       "      <td>7.2996</td>\n",
       "    </tr>\n",
       "    <tr>\n",
       "      <th>12</th>\n",
       "      <td>Austria</td>\n",
       "      <td>7.006</td>\n",
       "      <td>7.200</td>\n",
       "      <td>7.246</td>\n",
       "      <td>7.139</td>\n",
       "      <td>7.119</td>\n",
       "      <td>7.2942</td>\n",
       "    </tr>\n",
       "    <tr>\n",
       "      <th>17</th>\n",
       "      <td>Luxembourg</td>\n",
       "      <td>6.863</td>\n",
       "      <td>6.946</td>\n",
       "      <td>7.090</td>\n",
       "      <td>6.910</td>\n",
       "      <td>6.871</td>\n",
       "      <td>7.2375</td>\n",
       "    </tr>\n",
       "  </tbody>\n",
       "</table>\n",
       "</div>"
      ],
      "text/plain": [
       "         Países   2015   2016   2017   2018   2019    2020\n",
       "4       Finland  7.469  7.406  7.769  7.632  7.413  7.8087\n",
       "1       Denmark  7.522  7.527  7.600  7.555  7.526  7.6456\n",
       "3   Switzerland  7.494  7.587  7.480  7.487  7.509  7.5599\n",
       "2       Iceland  7.504  7.561  7.494  7.495  7.501  7.5045\n",
       "0        Norway  7.537  7.522  7.554  7.594  7.498  7.4880\n",
       "5   Netherlands  7.377  7.378  7.488  7.441  7.339  7.4489\n",
       "8        Sweden  7.284  7.364  7.343  7.314  7.291  7.3535\n",
       "7   New Zealand  7.314  7.286  7.307  7.324  7.334  7.2996\n",
       "12      Austria  7.006  7.200  7.246  7.139  7.119  7.2942\n",
       "17   Luxembourg  6.863  6.946  7.090  6.910  6.871  7.2375"
      ]
     },
     "execution_count": 101,
     "metadata": {},
     "output_type": "execute_result"
    }
   ],
   "source": [
    "df_graph = pd.merge(df_sorted2015, df_sorted2016,  on='Países', how='outer')\n",
    "df_graph = pd.merge(df_graph, df_sorted2017,  on='Países', how='outer')\n",
    "df_graph = pd.merge(df_graph, df_sorted2018,  on='Países', how='outer')\n",
    "df_graph = pd.merge(df_graph, df_sorted2019,  on='Países', how='outer')\n",
    "df_graph = pd.merge(df_graph, df_sorted2020,  on='Países', how='outer')\n",
    "df_graph = df_graph.sort_values(by='2020', ascending=False)\n",
    "df_graph = df_graph.iloc[:10]\n",
    "df_graph"
   ]
  },
  {
   "cell_type": "markdown",
   "metadata": {},
   "source": [
    "Score de felicidade dos top 10 países ao longo dos anos"
   ]
  },
  {
   "cell_type": "code",
   "execution_count": 104,
   "metadata": {},
   "outputs": [],
   "source": [
    "import matplotlib.pyplot as plt"
   ]
  },
  {
   "cell_type": "markdown",
   "metadata": {},
   "source": [
    "## QUESTÃO 6"
   ]
  },
  {
   "cell_type": "markdown",
   "metadata": {},
   "source": [
    "**Agrupando Dados por Região**\n",
    "\n",
    "Agrupe os dados por região (coluna \"Region\") e calcule a média das pontuações de felicidade para cada região. Ordene as regiões pela média de pontuação de felicidade em ordem decrescente."
   ]
  },
  {
   "cell_type": "code",
   "execution_count": 77,
   "metadata": {},
   "outputs": [
    {
     "data": {
      "text/plain": [
       "array(['Europe', 'North America', 'Australia', 'Asia', 'South America',\n",
       "       'Africa'], dtype=object)"
      ]
     },
     "execution_count": 77,
     "metadata": {},
     "output_type": "execute_result"
    }
   ],
   "source": [
    "#nao tem nenhuma coluna region, vcs podiam prestar mais atenção na hora de fazer essas listas hein, toda vez tem um monte \n",
    "#de erro\n",
    "df['Continentes'].unique()"
   ]
  },
  {
   "cell_type": "code",
   "execution_count": 78,
   "metadata": {},
   "outputs": [
    {
     "data": {
      "text/plain": [
       "Continentes\n",
       "Australia        7.289033\n",
       "North America    7.000539\n",
       "Europe           6.193717\n",
       "South America    5.865516\n",
       "Asia             5.267553\n",
       "Africa           4.353944\n",
       "Name: Felicidade, dtype: float64"
      ]
     },
     "metadata": {},
     "output_type": "display_data"
    }
   ],
   "source": [
    "por_continente = df.groupby(\"Continentes\")[\"Felicidade\"].mean().sort_values(ascending=False)\n",
    "display(por_continente)"
   ]
  },
  {
   "cell_type": "code",
   "execution_count": 79,
   "metadata": {},
   "outputs": [
    {
     "data": {
      "text/plain": [
       "array([2015, 2016, 2017, 2018, 2019, 2020], dtype=int64)"
      ]
     },
     "execution_count": 79,
     "metadata": {},
     "output_type": "execute_result"
    }
   ],
   "source": [
    "df['Ano'].unique()"
   ]
  },
  {
   "cell_type": "markdown",
   "metadata": {},
   "source": [
    "## QUESTÃO 7"
   ]
  },
  {
   "cell_type": "markdown",
   "metadata": {},
   "source": [
    "**Lidando com Dados Ausentes**\n",
    "\n",
    "Verifique se há dados ausentes no DataFrame e, se houver, retire a linha inteira em questão. Certifique-se de que o DataFrame não possui mais dados ausentes após o preenchimento."
   ]
  },
  {
   "cell_type": "code",
   "execution_count": 105,
   "metadata": {},
   "outputs": [
    {
     "name": "stdout",
     "output_type": "stream",
     "text": [
      "False\n"
     ]
    }
   ],
   "source": [
    "print(df.isna().any().any())"
   ]
  },
  {
   "cell_type": "markdown",
   "metadata": {},
   "source": [
    "# Questão 8"
   ]
  },
  {
   "cell_type": "markdown",
   "metadata": {},
   "source": [
    "Agora você tem uma base de dados limpa e com informações relevantes para responder algumas questões.\n",
    "\n",
    "- Países mais ricos são mais felizes? \n",
    "- Países com maior confiança no governo (menos experiencias com corrupção) são mais felizes?\n",
    "- Aonde se localizam os países mais felizes? Europa? Ásia?....\n"
   ]
  },
  {
   "cell_type": "markdown",
   "metadata": {},
   "source": [
    "**Países com maior confiança no governo são mais felizes?**\n",
    "\n",
    "a) Calcule a média da coluna \"Confianca_Gov\" para obter um valor médio que será usado como ponto de corte."
   ]
  },
  {
   "cell_type": "code",
   "execution_count": 107,
   "metadata": {},
   "outputs": [
    {
     "data": {
      "text/plain": [
       "0.1345437121212121"
      ]
     },
     "execution_count": 107,
     "metadata": {},
     "output_type": "execute_result"
    }
   ],
   "source": [
    "df2019['confian_gov'].mean()"
   ]
  },
  {
   "cell_type": "markdown",
   "metadata": {},
   "source": [
    "b) Com base na média calculada, crie uma nova coluna no DataFrame que atribuirá um rótulo (\"alta\" ou \"baixa\") a cada país de acordo com sua confiança no governo em relação à média."
   ]
  },
  {
   "cell_type": "code",
   "execution_count": 111,
   "metadata": {},
   "outputs": [
    {
     "name": "stderr",
     "output_type": "stream",
     "text": [
      "C:\\Users\\HP\\AppData\\Local\\Temp\\ipykernel_10024\\850181875.py:7: SettingWithCopyWarning: \n",
      "A value is trying to be set on a copy of a slice from a DataFrame.\n",
      "Try using .loc[row_indexer,col_indexer] = value instead\n",
      "\n",
      "See the caveats in the documentation: https://pandas.pydata.org/pandas-docs/stable/user_guide/indexing.html#returning-a-view-versus-a-copy\n",
      "  df2019['Rotulo_Confianca'] = df2019['confian_gov'].apply(rotulo_confianca)\n"
     ]
    },
    {
     "data": {
      "text/html": [
       "<div>\n",
       "<style scoped>\n",
       "    .dataframe tbody tr th:only-of-type {\n",
       "        vertical-align: middle;\n",
       "    }\n",
       "\n",
       "    .dataframe tbody tr th {\n",
       "        vertical-align: top;\n",
       "    }\n",
       "\n",
       "    .dataframe thead th {\n",
       "        text-align: right;\n",
       "    }\n",
       "</style>\n",
       "<table border=\"1\" class=\"dataframe\">\n",
       "  <thead>\n",
       "    <tr style=\"text-align: right;\">\n",
       "      <th></th>\n",
       "      <th>Países</th>\n",
       "      <th>Felicidade</th>\n",
       "      <th>PIB_Per_Capita</th>\n",
       "      <th>confian_gov</th>\n",
       "      <th>Continentes</th>\n",
       "      <th>Ano</th>\n",
       "      <th>Rotulo_Confianca</th>\n",
       "    </tr>\n",
       "  </thead>\n",
       "  <tbody>\n",
       "    <tr>\n",
       "      <th>528</th>\n",
       "      <td>Denmark</td>\n",
       "      <td>7.526</td>\n",
       "      <td>1.44178</td>\n",
       "      <td>0.44453</td>\n",
       "      <td>Europe</td>\n",
       "      <td>2019</td>\n",
       "      <td>Alta</td>\n",
       "    </tr>\n",
       "    <tr>\n",
       "      <th>529</th>\n",
       "      <td>Switzerland</td>\n",
       "      <td>7.509</td>\n",
       "      <td>1.52733</td>\n",
       "      <td>0.41203</td>\n",
       "      <td>Europe</td>\n",
       "      <td>2019</td>\n",
       "      <td>Alta</td>\n",
       "    </tr>\n",
       "    <tr>\n",
       "      <th>530</th>\n",
       "      <td>Iceland</td>\n",
       "      <td>7.501</td>\n",
       "      <td>1.42666</td>\n",
       "      <td>0.14975</td>\n",
       "      <td>Europe</td>\n",
       "      <td>2019</td>\n",
       "      <td>Alta</td>\n",
       "    </tr>\n",
       "    <tr>\n",
       "      <th>531</th>\n",
       "      <td>Norway</td>\n",
       "      <td>7.498</td>\n",
       "      <td>1.57744</td>\n",
       "      <td>0.35776</td>\n",
       "      <td>Europe</td>\n",
       "      <td>2019</td>\n",
       "      <td>Alta</td>\n",
       "    </tr>\n",
       "    <tr>\n",
       "      <th>532</th>\n",
       "      <td>Finland</td>\n",
       "      <td>7.413</td>\n",
       "      <td>1.40598</td>\n",
       "      <td>0.41004</td>\n",
       "      <td>Europe</td>\n",
       "      <td>2019</td>\n",
       "      <td>Alta</td>\n",
       "    </tr>\n",
       "    <tr>\n",
       "      <th>...</th>\n",
       "      <td>...</td>\n",
       "      <td>...</td>\n",
       "      <td>...</td>\n",
       "      <td>...</td>\n",
       "      <td>...</td>\n",
       "      <td>...</td>\n",
       "      <td>...</td>\n",
       "    </tr>\n",
       "    <tr>\n",
       "      <th>655</th>\n",
       "      <td>Rwanda</td>\n",
       "      <td>3.515</td>\n",
       "      <td>0.32846</td>\n",
       "      <td>0.50521</td>\n",
       "      <td>Africa</td>\n",
       "      <td>2019</td>\n",
       "      <td>Alta</td>\n",
       "    </tr>\n",
       "    <tr>\n",
       "      <th>656</th>\n",
       "      <td>Benin</td>\n",
       "      <td>3.484</td>\n",
       "      <td>0.39499</td>\n",
       "      <td>0.06681</td>\n",
       "      <td>Africa</td>\n",
       "      <td>2019</td>\n",
       "      <td>Baixa</td>\n",
       "    </tr>\n",
       "    <tr>\n",
       "      <th>657</th>\n",
       "      <td>Afghanistan</td>\n",
       "      <td>3.360</td>\n",
       "      <td>0.38227</td>\n",
       "      <td>0.07112</td>\n",
       "      <td>Asia</td>\n",
       "      <td>2019</td>\n",
       "      <td>Baixa</td>\n",
       "    </tr>\n",
       "    <tr>\n",
       "      <th>658</th>\n",
       "      <td>Togo</td>\n",
       "      <td>3.303</td>\n",
       "      <td>0.28123</td>\n",
       "      <td>0.11587</td>\n",
       "      <td>Africa</td>\n",
       "      <td>2019</td>\n",
       "      <td>Baixa</td>\n",
       "    </tr>\n",
       "    <tr>\n",
       "      <th>659</th>\n",
       "      <td>Burundi</td>\n",
       "      <td>2.905</td>\n",
       "      <td>0.06831</td>\n",
       "      <td>0.09419</td>\n",
       "      <td>Africa</td>\n",
       "      <td>2019</td>\n",
       "      <td>Baixa</td>\n",
       "    </tr>\n",
       "  </tbody>\n",
       "</table>\n",
       "<p>132 rows × 7 columns</p>\n",
       "</div>"
      ],
      "text/plain": [
       "          Países  Felicidade  PIB_Per_Capita  confian_gov Continentes   Ano  \\\n",
       "528      Denmark       7.526         1.44178      0.44453      Europe  2019   \n",
       "529  Switzerland       7.509         1.52733      0.41203      Europe  2019   \n",
       "530      Iceland       7.501         1.42666      0.14975      Europe  2019   \n",
       "531       Norway       7.498         1.57744      0.35776      Europe  2019   \n",
       "532      Finland       7.413         1.40598      0.41004      Europe  2019   \n",
       "..           ...         ...             ...          ...         ...   ...   \n",
       "655       Rwanda       3.515         0.32846      0.50521      Africa  2019   \n",
       "656        Benin       3.484         0.39499      0.06681      Africa  2019   \n",
       "657  Afghanistan       3.360         0.38227      0.07112        Asia  2019   \n",
       "658         Togo       3.303         0.28123      0.11587      Africa  2019   \n",
       "659      Burundi       2.905         0.06831      0.09419      Africa  2019   \n",
       "\n",
       "    Rotulo_Confianca  \n",
       "528             Alta  \n",
       "529             Alta  \n",
       "530             Alta  \n",
       "531             Alta  \n",
       "532             Alta  \n",
       "..               ...  \n",
       "655             Alta  \n",
       "656            Baixa  \n",
       "657            Baixa  \n",
       "658            Baixa  \n",
       "659            Baixa  \n",
       "\n",
       "[132 rows x 7 columns]"
      ]
     },
     "execution_count": 111,
     "metadata": {},
     "output_type": "execute_result"
    }
   ],
   "source": [
    "def rotulo_confianca (conf):\n",
    "    if conf > 0.1345:\n",
    "        return \"Alta\"\n",
    "    else:\n",
    "        return \"Baixa\"\n",
    "\n",
    "df2019['Rotulo_Confianca'] = df2019['confian_gov'].apply(rotulo_confianca) \n",
    "df2019"
   ]
  },
  {
   "cell_type": "markdown",
   "metadata": {},
   "source": [
    "c) Após dividir os países em grupos, calcule a média da pontuação de felicidade para cada grupo separadamente.\n"
   ]
  },
  {
   "cell_type": "code",
   "execution_count": 114,
   "metadata": {},
   "outputs": [
    {
     "data": {
      "text/plain": [
       "Rotulo_Confianca\n",
       "Alta     6.131830\n",
       "Baixa    5.043024\n",
       "Name: Felicidade, dtype: float64"
      ]
     },
     "metadata": {},
     "output_type": "display_data"
    }
   ],
   "source": [
    "x = df2019.groupby(\"Rotulo_Confianca\")[\"Felicidade\"].mean()\n",
    "display(x)"
   ]
  },
  {
   "cell_type": "markdown",
   "metadata": {},
   "source": [
    "d) Use um gráfico de barras para representar a relação entre o nível de confiança no governo e a média da pontuação de felicidade. Cada barra no gráfico representa um grupo (alta ou baixa) e a altura da barra representa a média da pontuação de felicidade para esse grupo."
   ]
  },
  {
   "cell_type": "code",
   "execution_count": 117,
   "metadata": {},
   "outputs": [
    {
     "data": {
      "image/png": "[encoded data removed]",
      "text/plain": [
       "<Figure size 500x300 with 1 Axes>"
      ]
     },
     "metadata": {},
     "output_type": "display_data"
    }
   ],
   "source": [
    "import matplotlib.pyplot as plt\n",
    "\n",
    "plt.figure(figsize=(5, 3))\n",
    "x.plot(kind='bar', color='skyblue') ## bar = grafico em barras  ## skyblue é a cor do grafico\n",
    "plt.title('conf gov x felicidade')  ## dê um titulo \n",
    "plt.xlabel('conf governo')  ## o que você quer no eixo x\n",
    "plt.ylabel('score felicidade')    ## o que você quer no eixo y\n",
    "plt.xticks(rotation=0)\n",
    "plt.show()"
   ]
  },
  {
   "cell_type": "markdown",
   "metadata": {},
   "source": [
    "e) qual é a conclusão de **Países com maior confiança no governo são mais felizes?**"
   ]
  },
  {
   "cell_type": "markdown",
   "metadata": {},
   "source": [
    "RESPOSTA...............SIM"
   ]
  },
  {
   "cell_type": "markdown",
   "metadata": {},
   "source": [
    "## QUESTÃO 9"
   ]
  },
  {
   "cell_type": "markdown",
   "metadata": {},
   "source": [
    "**Países mais ricos são mais felizes?**"
   ]
  },
  {
   "cell_type": "markdown",
   "metadata": {},
   "source": [
    "a) Crie um gráfico de dispersão (scatter plot) que mostre a relação entre a pontuação de felicidade e o PIB per capita. Coloque a pontuação de felicidade no eixo vertical (y) e o PIB per capita no eixo horizontal (x). Adicione rótulos aos eixos e um título informativo ao gráfico."
   ]
  },
  {
   "cell_type": "code",
   "execution_count": 123,
   "metadata": {},
   "outputs": [
    {
     "data": {
      "image/png": "[encoded data removed]",
      "text/plain": [
       "<Figure size 700x400 with 1 Axes>"
      ]
     },
     "metadata": {},
     "output_type": "display_data"
    }
   ],
   "source": [
    "\n",
    "# Defina os dados para os eixos x e y\n",
    "x = df2019['PIB_Per_Capita']\n",
    "y = df2019['Felicidade']\n",
    "\n",
    "# Crie o gráfico de dispersão\n",
    "plt.figure(figsize=(7, 4))  # Define o tamanho da figura\n",
    "plt.scatter(x, y, alpha=0.5)  # Cria o scatter plot com transparência\n",
    "\n",
    "# Adicione rótulos aos eixos\n",
    "plt.xlabel('PIB')\n",
    "plt.ylabel('Felicidade')\n",
    "plt.title('PIB X FELICIDADE')\n",
    "\n",
    "# Exiba o gráfico\n",
    "plt.show()"
   ]
  },
  {
   "cell_type": "markdown",
   "metadata": {},
   "source": [
    "b) Qual é a conclusão de **Países mais ricos são mais felizes?**"
   ]
  },
  {
   "cell_type": "markdown",
   "metadata": {},
   "source": [
    "RESPOSTA  ............ha uma correlação positiva entre felicidade e pib per capita"
   ]
  },
  {
   "cell_type": "markdown",
   "metadata": {},
   "source": [
    "## QUESTÃO 10"
   ]
  },
  {
   "cell_type": "markdown",
   "metadata": {},
   "source": [
    "**Aonde se localizam os países mais felizes? Europa? Ásia?....**"
   ]
  },
  {
   "cell_type": "markdown",
   "metadata": {},
   "source": [
    "a) Calcule a média da pontuação de felicidade (Score) em todo o DataFrame.\n"
   ]
  },
  {
   "cell_type": "code",
   "execution_count": 128,
   "metadata": {},
   "outputs": [
    {
     "data": {
      "text/plain": [
       "5.47330984670202"
      ]
     },
     "execution_count": 128,
     "metadata": {},
     "output_type": "execute_result"
    }
   ],
   "source": [
    "df['Felicidade'].mean()"
   ]
  },
  {
   "cell_type": "markdown",
   "metadata": {},
   "source": [
    "b) Crie dois DataFrames separados: um com os países com pontuação de felicidade acima da média e outro com os países com pontuação abaixo da média."
   ]
  },
  {
   "cell_type": "code",
   "execution_count": 129,
   "metadata": {},
   "outputs": [],
   "source": [
    "acima = df['Felicidade'] >= df['Felicidade'].mean()\n",
    "dfacima = df[acima]"
   ]
  },
  {
   "cell_type": "code",
   "execution_count": 130,
   "metadata": {},
   "outputs": [],
   "source": [
    "abaixo = df['Felicidade'] < df['Felicidade'].mean()\n",
    "dfabaixo = df[abaixo]"
   ]
  },
  {
   "cell_type": "markdown",
   "metadata": {},
   "source": [
    "c) Para cada um dos dois DataFrames criados no item b, crie subgrupos calculando a contagem de países por continente (coluna \"Region\"). dica: .value_counts()"
   ]
  },
  {
   "cell_type": "code",
   "execution_count": 135,
   "metadata": {},
   "outputs": [
    {
     "data": {
      "text/plain": [
       "Europe           176\n",
       "South America     95\n",
       "Asia              83\n",
       "North America     18\n",
       "Africa            15\n",
       "Australia         12\n",
       "Name: Continentes, dtype: int64"
      ]
     },
     "execution_count": 135,
     "metadata": {},
     "output_type": "execute_result"
    }
   ],
   "source": [
    "dfacima['Continentes'].value_counts()"
   ]
  },
  {
   "cell_type": "code",
   "execution_count": 136,
   "metadata": {},
   "outputs": [
    {
     "data": {
      "text/plain": [
       "Africa           177\n",
       "Asia             139\n",
       "Europe            52\n",
       "South America     25\n",
       "Name: Continentes, dtype: int64"
      ]
     },
     "execution_count": 136,
     "metadata": {},
     "output_type": "execute_result"
    }
   ],
   "source": [
    "dfabaixo['Continentes'].value_counts()"
   ]
  },
  {
   "cell_type": "markdown",
   "metadata": {},
   "source": [
    "d) Calcule a porcentagem que cada continente representa em relação ao total de países em cada grupo."
   ]
  },
  {
   "cell_type": "code",
   "execution_count": 138,
   "metadata": {},
   "outputs": [
    {
     "data": {
      "text/plain": [
       "(399, 6)"
      ]
     },
     "execution_count": 138,
     "metadata": {},
     "output_type": "execute_result"
    }
   ],
   "source": [
    "dfacima.shape"
   ]
  },
  {
   "cell_type": "code",
   "execution_count": 139,
   "metadata": {},
   "outputs": [
    {
     "data": {
      "text/plain": [
       "(393, 6)"
      ]
     },
     "execution_count": 139,
     "metadata": {},
     "output_type": "execute_result"
    }
   ],
   "source": [
    "dfabaixo.shape"
   ]
  },
  {
   "cell_type": "code",
   "execution_count": 160,
   "metadata": {},
   "outputs": [
    {
     "data": {
      "text/plain": [
       "Africa           45.038168\n",
       "Asia             35.368957\n",
       "Europe           13.231552\n",
       "South America     6.361323\n",
       "Name: Continentes, dtype: float64"
      ]
     },
     "execution_count": 160,
     "metadata": {},
     "output_type": "execute_result"
    }
   ],
   "source": [
    "c = dfabaixo['Continentes'].value_counts()\n",
    "baba = c.apply(lambda x: x/393 * 100)\n",
    "baba"
   ]
  },
  {
   "cell_type": "code",
   "execution_count": 161,
   "metadata": {},
   "outputs": [
    {
     "data": {
      "text/plain": [
       "Europe           44.110276\n",
       "South America    23.809524\n",
       "Asia             20.802005\n",
       "North America     4.511278\n",
       "Africa            3.759398\n",
       "Australia         3.007519\n",
       "Name: Continentes, dtype: float64"
      ]
     },
     "execution_count": 161,
     "metadata": {},
     "output_type": "execute_result"
    }
   ],
   "source": [
    "c = dfacima['Continentes'].value_counts()\n",
    "s = c.apply(lambda x: x/399 * 100)\n",
    "s"
   ]
  },
  {
   "cell_type": "markdown",
   "metadata": {},
   "source": [
    "e) Crie gráficos de barras que mostrem a porcentagem de cada continente nos grupos de alta felicidade e baixa felicidade."
   ]
  },
  {
   "cell_type": "code",
   "execution_count": 164,
   "metadata": {},
   "outputs": [
    {
     "data": {
      "image/png": "[encoded data removed]",
      "text/plain": [
       "<Figure size 500x300 with 1 Axes>"
      ]
     },
     "metadata": {},
     "output_type": "display_data"
    }
   ],
   "source": [
    "\n",
    "plt.figure(figsize=(5, 3))\n",
    "plt.bar(s.index, s)\n",
    "plt.title('Prevalencia de continentes dos paises mais felizes')\n",
    "plt.xlabel('Continente')\n",
    "plt.ylabel('Porcentagem')\n",
    "plt.xticks(rotation=45)\n",
    "plt.show()"
   ]
  },
  {
   "cell_type": "code",
   "execution_count": 166,
   "metadata": {},
   "outputs": [
    {
     "data": {
      "image/png": "[encoded data removed]",
      "text/plain": [
       "<Figure size 500x300 with 1 Axes>"
      ]
     },
     "metadata": {},
     "output_type": "display_data"
    }
   ],
   "source": [
    "plt.figure(figsize=(5, 3))\n",
    "plt.bar(baba.index, baba)\n",
    "plt.title('Prevalencia de continentes dos paises menos felizes')\n",
    "plt.xlabel('Continente')\n",
    "plt.ylabel('Porcentagem')\n",
    "plt.xticks(rotation=45)\n",
    "\n",
    "# Exibir o gráfico\n",
    "plt.show()"
   ]
  },
  {
   "cell_type": "markdown",
   "metadata": {},
   "source": [
    "f)  Qual é a conclusão da questão: **Aonde se localizam os países mais felizes? Europa? Ásia?....**"
   ]
  },
  {
   "cell_type": "markdown",
   "metadata": {},
   "source": [
    "RESPOSTA ...........EUROPA"
   ]
  },
  {
   "cell_type": "markdown",
   "metadata": {},
   "source": [
    "APÓS A LISTA VOCÊ CONSEGUE ENXERGAR ALGUMA CONCLUSÃO SOBRE A QUESTÃO INICIAL DO TEMA? SIM"
   ]
  }
 ],
 "metadata": {
  "kernelspec": {
   "display_name": "Python 3 (ipykernel)",
   "language": "python",
   "name": "python3"
  },
  "language_info": {
   "codemirror_mode": {
    "name": "ipython",
    "version": 3
   },
   "file_extension": ".py",
   "mimetype": "text/x-python",
   "name": "python",
   "nbconvert_exporter": "python",
   "pygments_lexer": "ipython3",
   "version": "3.11.4"
  }
 },
 "nbformat": 4,
 "nbformat_minor": 2
}
